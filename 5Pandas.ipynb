{
 "cells": [
  {
   "cell_type": "markdown",
   "metadata": {
    "id": "Q-sIvvK608wY"
   },
   "source": [
    "# ESTRUCTURA DE DATOS\n",
    "\n",
    "El pilar basico de la libreria pandas, al igual que como ocurria con Numpy, son las estructuras de datos que pone a nuestra disposicion. En este caso, dispondremos de dos estructuras de datos relacionadas, pero con su funcionamiento especifico:\n",
    "* Series: para informacion unidimensional\n",
    "* DataFrame: para informacion tabular\n",
    "\n",
    "Son estructuras muy similares a las ofrecidas por R: vectores (con nombre) y data.frame"
   ]
  },
  {
   "cell_type": "markdown",
   "metadata": {
    "id": "S3NsSmn31HwU"
   },
   "source": [
    "### UTILIZACION BASICA DE PANDAS\n",
    "\n",
    "Al igual que en Numpy, pandas no pertenece al core de Python, por lo que SIEMPRE habra que importarlo en un programa antes de poder usarlo:"
   ]
  },
  {
   "cell_type": "code",
   "execution_count": null,
   "metadata": {
    "id": "pItzoiv7uROP"
   },
   "outputs": [],
   "source": [
    "import numpy as np\n",
    "import pandas as pd"
   ]
  },
  {
   "cell_type": "markdown",
   "metadata": {
    "id": "7RUW8aRg1ZKA"
   },
   "source": [
    "### SERIES\n",
    "\n",
    "Una serie es una estructura de datos unidimensionales que contiene:\n",
    "* Un array de datos: que pueden tener cualquier tipo de dato de los ofrecidos por Numpy\n",
    "* Un array de etiquetas/labels: asociando una etiqueta a cada dato de array anterior y que se denomina \"indice\", aunque no es obligatorio que el desarrollador especifique el mismo."
   ]
  },
  {
   "cell_type": "markdown",
   "metadata": {
    "id": "_OxjW4WU1cG_"
   },
   "source": [
    "CREACION DE SERIES\n",
    "\n",
    "Para la creacion de Series contamos con una funcion \"constructor\" (series) que pueden recibir, principalmente, los siguientes paramentros;\n",
    "* data: Es obligatorio, contiene losd atos que queremos cargar en la Serie y podra ser un valor escalar, una secuencia de Python o un ndarray unidimensional de Numpy\n",
    "* index: Es opcional, contiene las etiquetas que queremos asignar a los valores de la serie y podra ser una secuencia de Python o una ndarray unidimensional de Numpy. En caso de no suministrarse el valor por defecto es np.arange(0, tam_datos)\n",
    "* dtype: Que podra ser cualquier tipo de dato de Numpy"
   ]
  },
  {
   "cell_type": "code",
   "execution_count": null,
   "metadata": {
    "colab": {
     "base_uri": "https://localhost:8080/"
    },
    "id": "qxiTbaMa0O7l",
    "outputId": "f3a86165-959d-47f6-fd9b-e3154fabdc08"
   },
   "outputs": [
    {
     "data": {
      "text/plain": [
       "0    5\n",
       "dtype: int64"
      ]
     },
     "execution_count": 2,
     "metadata": {
      "tags": []
     },
     "output_type": "execute_result"
    }
   ],
   "source": [
    "# FUNCION DE SERIES; (DATOS, INDIXE O CLAVE, TIPO DE DATO)\n",
    "#SERIE DESDE ESCALAR\n",
    "serie = pd.Series(5)\n",
    "serie"
   ]
  },
  {
   "cell_type": "code",
   "execution_count": null,
   "metadata": {
    "colab": {
     "base_uri": "https://localhost:8080/"
    },
    "id": "rGxgjTdLs9hY",
    "outputId": "f707cb34-e112-4665-99b9-a197fbba4cdf"
   },
   "outputs": [
    {
     "data": {
      "text/plain": [
       "0    b'1'\n",
       "1    b'2'\n",
       "2    b'3'\n",
       "3    b'4'\n",
       "4    b'5'\n",
       "dtype: bytes8"
      ]
     },
     "execution_count": 6,
     "metadata": {
      "tags": []
     },
     "output_type": "execute_result"
    }
   ],
   "source": [
    "#SERIE DESDE SECUENCIA\n",
    "serie = pd.Series([1, 2, 3, 4, 5], dtype=np.string_) #INDICAMOS LOS VALORES Y TIPO DE VALORES\n",
    "serie"
   ]
  },
  {
   "cell_type": "code",
   "execution_count": null,
   "metadata": {
    "colab": {
     "base_uri": "https://localhost:8080/"
    },
    "id": "ZmXXzfLLtAc7",
    "outputId": "9009d979-94f6-418a-e50e-b3210596c9e8"
   },
   "outputs": [
    {
     "data": {
      "text/plain": [
       "0     2\n",
       "1     4\n",
       "2     6\n",
       "3     8\n",
       "4    10\n",
       "dtype: int64"
      ]
     },
     "execution_count": 7,
     "metadata": {
      "tags": []
     },
     "output_type": "execute_result"
    }
   ],
   "source": [
    "#SERIE DESDE N.D.ARRAY\n",
    "array = np.array([2, 4, 6, 8, 10])\n",
    "serie = pd.Series(array)\n",
    "serie"
   ]
  },
  {
   "cell_type": "code",
   "execution_count": null,
   "metadata": {
    "colab": {
     "base_uri": "https://localhost:8080/"
    },
    "id": "wDWq-dYgtDGl",
    "outputId": "5f067237-7f63-4d68-ffef-7a6862a79699"
   },
   "outputs": [
    {
     "data": {
      "text/plain": [
       "a    1\n",
       "b    2\n",
       "c    3\n",
       "d    4\n",
       "e    5\n",
       "dtype: int64"
      ]
     },
     "execution_count": 8,
     "metadata": {
      "tags": []
     },
     "output_type": "execute_result"
    }
   ],
   "source": [
    "#SERIE CON INDICE PREESTABLECIDO\n",
    "serie = pd.Series([1, 2, 3, 4, 5], index=[\"a\", \"b\", \"c\", \"d\", \"e\"])\n",
    "serie"
   ]
  },
  {
   "cell_type": "code",
   "execution_count": null,
   "metadata": {
    "colab": {
     "base_uri": "https://localhost:8080/"
    },
    "id": "OShNylRev4Ik",
    "outputId": "62ca8e58-7afc-428f-bc6b-1bc15b920604"
   },
   "outputs": [
    {
     "data": {
      "text/plain": [
       "a    1.0\n",
       "b    2.0\n",
       "c    3.0\n",
       "d    4.0\n",
       "dtype: float64"
      ]
     },
     "execution_count": 9,
     "metadata": {
      "tags": []
     },
     "output_type": "execute_result"
    }
   ],
   "source": [
    "#SERIE DESDE UN DICCIONARIO (ESTABLCE EL INDICE DESDE LAS CLAVES)\n",
    "serie = pd.Series({\"a\":1, \"b\":2, \"c\":3, \"d\":4}, dtype=float)\n",
    "serie"
   ]
  },
  {
   "cell_type": "markdown",
   "metadata": {
    "id": "vFmykcs0xQ1d"
   },
   "source": [
    "ELEMENTOS DE UNA SERIE\n",
    "\n",
    "Disponemos de dos atributos para recuperar los datos y el indice de una Serie de forma independiente"
   ]
  },
  {
   "cell_type": "code",
   "execution_count": null,
   "metadata": {
    "id": "ZtjCtKVnw1lC"
   },
   "outputs": [],
   "source": [
    "serie = pd.Series([1, 2, 3, 4, 5], index=[\"a\", \"b\", \"c\", \"d\", \"e\"], dtype=np.float64)"
   ]
  },
  {
   "cell_type": "code",
   "execution_count": null,
   "metadata": {
    "id": "9haHv9iMxxXu"
   },
   "outputs": [],
   "source": [
    "#VALORES DE UNA SERIE #ARROJA SOLO LOS VALORES\n",
    "serie.values"
   ]
  },
  {
   "cell_type": "code",
   "execution_count": null,
   "metadata": {
    "id": "XdVJJVavx26j"
   },
   "outputs": [],
   "source": [
    "#INDICE DE UNA SERIE #ARROJA SOLO LA CLAVE\n",
    "serie.index"
   ]
  },
  {
   "cell_type": "markdown",
   "metadata": {
    "id": "Us8fG2DZx_Wz"
   },
   "source": [
    "Los indices son inmutalbes, lo que impide que cambiamos un valor de indice de forma independiente. Sin embargo, podemos modificar un indice completo por otro."
   ]
  },
  {
   "cell_type": "code",
   "execution_count": null,
   "metadata": {
    "id": "4GX-_QN3x9Xb"
   },
   "outputs": [],
   "source": [
    "serie = pd.Series([1, 2, 3, 4, 5], index=[\"a\", \"b\", \"c\", \"d\", \"e\"], dtype=np.float64)"
   ]
  },
  {
   "cell_type": "code",
   "execution_count": null,
   "metadata": {
    "id": "6_essUkvyb28"
   },
   "outputs": [],
   "source": [
    "#MODIFICAR UN ELEMENTO DEL INDICE DE UNA SERIE\n",
    "serie.index[0] = 4 #NO PUEDES MODIFICA UNA COSA EN CONCRETO"
   ]
  },
  {
   "cell_type": "code",
   "execution_count": null,
   "metadata": {
    "colab": {
     "base_uri": "https://localhost:8080/"
    },
    "id": "2gZXwcVLym2_",
    "outputId": "37df63f0-ab14-4012-8982-12fe3fee9d84"
   },
   "outputs": [
    {
     "data": {
      "text/plain": [
       "f    1.0\n",
       "g    2.0\n",
       "h    3.0\n",
       "i    4.0\n",
       "j    5.0\n",
       "dtype: float64"
      ]
     },
     "execution_count": 16,
     "metadata": {
      "tags": []
     },
     "output_type": "execute_result"
    }
   ],
   "source": [
    "#MODIFICAR EL INDICE DE UNA SERIE\n",
    "serie.index = [\"f\", \"g\", \"h\", \"i\", \"j\"]\n",
    "serie # PERO PUEDES CAMBIAR TODO EL RANGO "
   ]
  },
  {
   "cell_type": "markdown",
   "metadata": {
    "id": "79MwqGYLy9Wn"
   },
   "source": [
    "### DATAFRAME\n",
    "\n",
    "Un DataFrame es una estructura tabular (bidimensional) de informacion con las siguientes propiedades:\n",
    "* Esta compuesta por una serie ordenada de filas y una serie ordenada de columnas\n",
    "* Tiene, por tanto, un indice para las filas y otro para las columnas\n",
    "* Cada columna puede tener un tipo de Numpy diferente\n",
    "* Puede ser visto, por tanto, como un diccionario de Series, todas ellas compartiendo el mismo indice "
   ]
  },
  {
   "cell_type": "markdown",
   "metadata": {
    "id": "D4XdGqrQ0qT5"
   },
   "source": [
    "CREACION DE DATAFRAME\n",
    "\n",
    "Para la creacion de DataFrame contamos con una funcion \"contructor\" (DataFrame) que puede recibir, principalmente, los siguientes parametros:\n",
    "* data: es oblogatorio, contiene los datos que queremos cargar en el DataFrame y podra ser un diccionario de Series, un diccionario de secuencias, un ndarray bidimensionales, una Series y otro DataFrame\n",
    "* index: es opcional, contiene las etiquetas que queremos asignar a las filas del DataFrame y podra ser una secuencia de Python o un ndarray unidimensionales de Numpy. En caso de no suministrarse el valor por defecto es np.arange(0, num_filas)\n",
    "* columns: es opcional, contiene las etiquetas que queremos asignar a las columnas de DataFrame y podra ser una secuancia de Python o un ndarray, unidimensional de Numpy- En caso de no suministrase el valor por defecto es np.arange(0, num_columnas)\n",
    "* dtype: es opcional, fijara el tipo de todas las columnas y podra ser cualquier tipo de dato de Numpy\n",
    "\n",
    "IMPORTANTE: Si el tamaño de cada columna no coincide, se creara un DataFrame lo suficientemente grande como para contener al mayor y se asignara NaN en los huecos."
   ]
  },
  {
   "cell_type": "code",
   "execution_count": null,
   "metadata": {
    "colab": {
     "base_uri": "https://localhost:8080/",
     "height": 142
    },
    "id": "avIM-cPKy7D_",
    "outputId": "88b414d7-ced4-4ae5-cb7f-22c4e1779c59"
   },
   "outputs": [
    {
     "data": {
      "text/html": [
       "<div>\n",
       "<style scoped>\n",
       "    .dataframe tbody tr th:only-of-type {\n",
       "        vertical-align: middle;\n",
       "    }\n",
       "\n",
       "    .dataframe tbody tr th {\n",
       "        vertical-align: top;\n",
       "    }\n",
       "\n",
       "    .dataframe thead th {\n",
       "        text-align: right;\n",
       "    }\n",
       "</style>\n",
       "<table border=\"1\" class=\"dataframe\">\n",
       "  <thead>\n",
       "    <tr style=\"text-align: right;\">\n",
       "      <th></th>\n",
       "      <th>var1</th>\n",
       "      <th>var2</th>\n",
       "      <th>var3</th>\n",
       "    </tr>\n",
       "  </thead>\n",
       "  <tbody>\n",
       "    <tr>\n",
       "      <th>0</th>\n",
       "      <td>1</td>\n",
       "      <td>uno</td>\n",
       "      <td>1.0</td>\n",
       "    </tr>\n",
       "    <tr>\n",
       "      <th>1</th>\n",
       "      <td>2</td>\n",
       "      <td>dos</td>\n",
       "      <td>2.0</td>\n",
       "    </tr>\n",
       "    <tr>\n",
       "      <th>2</th>\n",
       "      <td>3</td>\n",
       "      <td>tres</td>\n",
       "      <td>30.0</td>\n",
       "    </tr>\n",
       "  </tbody>\n",
       "</table>\n",
       "</div>"
      ],
      "text/plain": [
       "   var1  var2  var3\n",
       "0     1   uno   1.0\n",
       "1     2   dos   2.0\n",
       "2     3  tres  30.0"
      ]
     },
     "execution_count": 17,
     "metadata": {
      "tags": []
     },
     "output_type": "execute_result"
    }
   ],
   "source": [
    "# DATAFRAME DESDE DICCIONARIO DE SECUENCIAS\n",
    "dataframe = pd.DataFrame({\"var1\":[1, 2, 3], \"var2\": [\"uno\", \"dos\", \"tres\"], \"var3\":[1.0, 2.0, 30.]})\n",
    "dataframe"
   ]
  },
  {
   "cell_type": "code",
   "execution_count": null,
   "metadata": {
    "colab": {
     "base_uri": "https://localhost:8080/",
     "height": 142
    },
    "id": "ZjI_aTZ90op3",
    "outputId": "fe74f770-fcbf-4ba8-e9fd-8e79d1270d77"
   },
   "outputs": [
    {
     "data": {
      "text/html": [
       "<div>\n",
       "<style scoped>\n",
       "    .dataframe tbody tr th:only-of-type {\n",
       "        vertical-align: middle;\n",
       "    }\n",
       "\n",
       "    .dataframe tbody tr th {\n",
       "        vertical-align: top;\n",
       "    }\n",
       "\n",
       "    .dataframe thead th {\n",
       "        text-align: right;\n",
       "    }\n",
       "</style>\n",
       "<table border=\"1\" class=\"dataframe\">\n",
       "  <thead>\n",
       "    <tr style=\"text-align: right;\">\n",
       "      <th></th>\n",
       "      <th>var1</th>\n",
       "      <th>var2</th>\n",
       "    </tr>\n",
       "  </thead>\n",
       "  <tbody>\n",
       "    <tr>\n",
       "      <th>0</th>\n",
       "      <td>1.0</td>\n",
       "      <td>a</td>\n",
       "    </tr>\n",
       "    <tr>\n",
       "      <th>1</th>\n",
       "      <td>2.0</td>\n",
       "      <td>b</td>\n",
       "    </tr>\n",
       "    <tr>\n",
       "      <th>2</th>\n",
       "      <td>3.0</td>\n",
       "      <td>NaN</td>\n",
       "    </tr>\n",
       "  </tbody>\n",
       "</table>\n",
       "</div>"
      ],
      "text/plain": [
       "   var1 var2\n",
       "0   1.0    a\n",
       "1   2.0    b\n",
       "2   3.0  NaN"
      ]
     },
     "execution_count": 21,
     "metadata": {
      "tags": []
     },
     "output_type": "execute_result"
    }
   ],
   "source": [
    "# DATAFRAME DESDE DICCIONARIO DE SERIES\n",
    "dataframe = pd.DataFrame({\"var1\": pd.Series([1, 2, 3], dtype=np.float64), \"var2\": pd.Series([\"a\", \"b\"])})\n",
    "dataframe #UN DATAFRAME PUEDE SER VISTO COMO UNA CONCATENACION DE VARIAS COLUMNAS DE SERIES"
   ]
  },
  {
   "cell_type": "code",
   "execution_count": null,
   "metadata": {
    "colab": {
     "base_uri": "https://localhost:8080/",
     "height": 173
    },
    "id": "mPLVu4LXOgcU",
    "outputId": "93902702-61d0-4ec2-e366-02a9e0369f75"
   },
   "outputs": [
    {
     "data": {
      "text/html": [
       "<div>\n",
       "<style scoped>\n",
       "    .dataframe tbody tr th:only-of-type {\n",
       "        vertical-align: middle;\n",
       "    }\n",
       "\n",
       "    .dataframe tbody tr th {\n",
       "        vertical-align: top;\n",
       "    }\n",
       "\n",
       "    .dataframe thead th {\n",
       "        text-align: right;\n",
       "    }\n",
       "</style>\n",
       "<table border=\"1\" class=\"dataframe\">\n",
       "  <thead>\n",
       "    <tr style=\"text-align: right;\">\n",
       "      <th></th>\n",
       "      <th>c1</th>\n",
       "      <th>c2</th>\n",
       "      <th>c3</th>\n",
       "      <th>c4</th>\n",
       "    </tr>\n",
       "  </thead>\n",
       "  <tbody>\n",
       "    <tr>\n",
       "      <th>f1</th>\n",
       "      <td>0</td>\n",
       "      <td>1</td>\n",
       "      <td>2</td>\n",
       "      <td>3</td>\n",
       "    </tr>\n",
       "    <tr>\n",
       "      <th>f2</th>\n",
       "      <td>4</td>\n",
       "      <td>5</td>\n",
       "      <td>6</td>\n",
       "      <td>7</td>\n",
       "    </tr>\n",
       "    <tr>\n",
       "      <th>f3</th>\n",
       "      <td>8</td>\n",
       "      <td>9</td>\n",
       "      <td>10</td>\n",
       "      <td>11</td>\n",
       "    </tr>\n",
       "    <tr>\n",
       "      <th>f4</th>\n",
       "      <td>12</td>\n",
       "      <td>13</td>\n",
       "      <td>14</td>\n",
       "      <td>15</td>\n",
       "    </tr>\n",
       "  </tbody>\n",
       "</table>\n",
       "</div>"
      ],
      "text/plain": [
       "    c1  c2  c3  c4\n",
       "f1   0   1   2   3\n",
       "f2   4   5   6   7\n",
       "f3   8   9  10  11\n",
       "f4  12  13  14  15"
      ]
     },
     "execution_count": 30,
     "metadata": {
      "tags": []
     },
     "output_type": "execute_result"
    }
   ],
   "source": [
    "#DATAFRAME DESDE NDARRAY CON INDICES PARA FILAS Y COLUMNAS\n",
    "dataframes = pd.DataFrame(np.arange(16).reshape(4, 4), index=[\"f1\", \"f2\", \"f3\", \"f4\"], columns=[\"c1\", \"c2\", \"c3\", \"c4\"])\n",
    "dataframes"
   ]
  },
  {
   "cell_type": "code",
   "execution_count": null,
   "metadata": {
    "colab": {
     "base_uri": "https://localhost:8080/",
     "height": 173
    },
    "id": "qy_52WeM3SOk",
    "outputId": "377776b2-b6a8-4461-e3fa-dc9ca2875578"
   },
   "outputs": [
    {
     "data": {
      "text/html": [
       "<div>\n",
       "<style scoped>\n",
       "    .dataframe tbody tr th:only-of-type {\n",
       "        vertical-align: middle;\n",
       "    }\n",
       "\n",
       "    .dataframe tbody tr th {\n",
       "        vertical-align: top;\n",
       "    }\n",
       "\n",
       "    .dataframe thead th {\n",
       "        text-align: right;\n",
       "    }\n",
       "</style>\n",
       "<table border=\"1\" class=\"dataframe\">\n",
       "  <thead>\n",
       "    <tr style=\"text-align: right;\">\n",
       "      <th></th>\n",
       "      <th>0</th>\n",
       "      <th>1</th>\n",
       "      <th>2</th>\n",
       "      <th>3</th>\n",
       "    </tr>\n",
       "  </thead>\n",
       "  <tbody>\n",
       "    <tr>\n",
       "      <th>0</th>\n",
       "      <td>0.0</td>\n",
       "      <td>1.0</td>\n",
       "      <td>2.0</td>\n",
       "      <td>3.0</td>\n",
       "    </tr>\n",
       "    <tr>\n",
       "      <th>1</th>\n",
       "      <td>4.0</td>\n",
       "      <td>5.0</td>\n",
       "      <td>6.0</td>\n",
       "      <td>7.0</td>\n",
       "    </tr>\n",
       "    <tr>\n",
       "      <th>2</th>\n",
       "      <td>8.0</td>\n",
       "      <td>9.0</td>\n",
       "      <td>10.0</td>\n",
       "      <td>11.0</td>\n",
       "    </tr>\n",
       "    <tr>\n",
       "      <th>3</th>\n",
       "      <td>12.0</td>\n",
       "      <td>13.0</td>\n",
       "      <td>14.0</td>\n",
       "      <td>15.0</td>\n",
       "    </tr>\n",
       "  </tbody>\n",
       "</table>\n",
       "</div>"
      ],
      "text/plain": [
       "      0     1     2     3\n",
       "0   0.0   1.0   2.0   3.0\n",
       "1   4.0   5.0   6.0   7.0\n",
       "2   8.0   9.0  10.0  11.0\n",
       "3  12.0  13.0  14.0  15.0"
      ]
     },
     "execution_count": 31,
     "metadata": {
      "tags": []
     },
     "output_type": "execute_result"
    }
   ],
   "source": [
    "#DATAFRAME DESDE NDARRAY CON UN TIPO FIJO PARA TODAS\n",
    "dataframes = pd.DataFrame(np.arange(16).reshape(4, 4), dtype=np.float64)\n",
    "dataframes"
   ]
  },
  {
   "cell_type": "markdown",
   "metadata": {
    "id": "AkAv0JvT7UU2"
   },
   "source": [
    "ELEMENTOS DE UN DATAFRAME\n",
    "\n",
    "Disponemos de tres atributos para recuperar los datos, el indice y las columnas de un DataFrame de forma independiente"
   ]
  },
  {
   "cell_type": "code",
   "execution_count": null,
   "metadata": {
    "id": "RCkSfe4V7KxM"
   },
   "outputs": [],
   "source": [
    "dataframe = pd.DataFrame({\"var1\": [1, 2, 3], \"var2\": [\"uno\", \"dos\", \"tres\"], \"var3\": [1.0, 2.0, 3.0]})"
   ]
  },
  {
   "cell_type": "code",
   "execution_count": null,
   "metadata": {
    "colab": {
     "base_uri": "https://localhost:8080/"
    },
    "id": "bOmX4fOoNuM7",
    "outputId": "72743329-8dea-432f-b518-5bbba48b54e1"
   },
   "outputs": [
    {
     "data": {
      "text/plain": [
       "array([[1, 'uno', 1.0],\n",
       "       [2, 'dos', 2.0],\n",
       "       [3, 'tres', 3.0]], dtype=object)"
      ]
     },
     "execution_count": 32,
     "metadata": {
      "tags": []
     },
     "output_type": "execute_result"
    }
   ],
   "source": [
    "#VALORES DE UN DATAFRAME\n",
    "dataframe.values #obtenemos una matriz con los valores"
   ]
  },
  {
   "cell_type": "code",
   "execution_count": null,
   "metadata": {
    "colab": {
     "base_uri": "https://localhost:8080/"
    },
    "id": "QCm13wqKNzbC",
    "outputId": "3e3e4c6e-bf87-43e0-99e2-611fac086960"
   },
   "outputs": [
    {
     "data": {
      "text/plain": [
       "RangeIndex(start=0, stop=3, step=1)"
      ]
     },
     "execution_count": 33,
     "metadata": {
      "tags": []
     },
     "output_type": "execute_result"
    }
   ],
   "source": [
    "#INDICE DE UN DATAFRAME\n",
    "dataframe.index # comienz en el 0 termina en el 3 y va de uno en uno"
   ]
  },
  {
   "cell_type": "code",
   "execution_count": null,
   "metadata": {
    "id": "ukqarVP4N7f3"
   },
   "outputs": [],
   "source": [
    "#COLUMNAS DE UN DATAFRAME\n",
    "dataframe.columns #nombre de las columnas"
   ]
  },
  {
   "cell_type": "markdown",
   "metadata": {
    "id": "fi77J2iv7240"
   },
   "source": [
    "De nuevo, los indices (tanto el de la filas como el de columnas) son inmutables, pero de nuevom se pueden modificar de forma completa"
   ]
  },
  {
   "cell_type": "code",
   "execution_count": null,
   "metadata": {
    "id": "abdqb-Jj8H2N"
   },
   "outputs": [],
   "source": [
    "dataframe = pd.DataFrame({\"var1\":[1, 2, 3], \"var2\": [\"uno\", \"dos\", \"tres\"], \"var3\":[1.0, 2.0, 3.0]})\n",
    "dataframe"
   ]
  },
  {
   "cell_type": "code",
   "execution_count": null,
   "metadata": {
    "id": "RCH4e5H48aST"
   },
   "outputs": [],
   "source": [
    "#MODIFICAR UN ELEMENTO DEL INDICE DE FILAS DE UN DATAFRAME\n",
    "dataframe.index[0] = 4 #no podemos modificar valores"
   ]
  },
  {
   "cell_type": "code",
   "execution_count": null,
   "metadata": {
    "id": "rmBFU0cI8kVU"
   },
   "outputs": [],
   "source": [
    "#MODIFICAR UN ELEMENTO DEL INDICE DE COLUMNAS DE UN DATAFRAME\n",
    "dataframe.columns[0] = 4 # ni modicar el valor de una columna"
   ]
  },
  {
   "cell_type": "code",
   "execution_count": null,
   "metadata": {
    "id": "HPvNIJml8rVu"
   },
   "outputs": [],
   "source": [
    "#MODIFICAR EL INDICE DE FILAS DE UN DATAFRAME\n",
    "dataframe.index = [\"f1\", \"f2\", \"f3\"]\n",
    "dataframe #si podemos cambiar el valor de todos los valores de una columna"
   ]
  },
  {
   "cell_type": "code",
   "execution_count": null,
   "metadata": {
    "id": "cgX1bSN_809Y"
   },
   "outputs": [],
   "source": [
    "#MODIFICAR EL INDICE DE FILAS DE UN DATAFRAME\n",
    "dataframe.columns = [\"c1\", \"c2\", \"c3\"]\n",
    "dataframe  # y podemos cambiar los valores de una fila"
   ]
  },
  {
   "cell_type": "code",
   "execution_count": null,
   "metadata": {
    "colab": {
     "base_uri": "https://localhost:8080/",
     "height": 142
    },
    "id": "DdV3LkE_9n17",
    "outputId": "59c9abdc-a26c-475b-cf94-5fae6b1018d0"
   },
   "outputs": [
    {
     "data": {
      "text/html": [
       "<div>\n",
       "<style scoped>\n",
       "    .dataframe tbody tr th:only-of-type {\n",
       "        vertical-align: middle;\n",
       "    }\n",
       "\n",
       "    .dataframe tbody tr th {\n",
       "        vertical-align: top;\n",
       "    }\n",
       "\n",
       "    .dataframe thead th {\n",
       "        text-align: right;\n",
       "    }\n",
       "</style>\n",
       "<table border=\"1\" class=\"dataframe\">\n",
       "  <thead>\n",
       "    <tr style=\"text-align: right;\">\n",
       "      <th></th>\n",
       "      <th>c1</th>\n",
       "      <th>co12</th>\n",
       "      <th>c3</th>\n",
       "    </tr>\n",
       "  </thead>\n",
       "  <tbody>\n",
       "    <tr>\n",
       "      <th>f1</th>\n",
       "      <td>1</td>\n",
       "      <td>uno</td>\n",
       "      <td>1.0</td>\n",
       "    </tr>\n",
       "    <tr>\n",
       "      <th>f2</th>\n",
       "      <td>2</td>\n",
       "      <td>dos</td>\n",
       "      <td>2.0</td>\n",
       "    </tr>\n",
       "    <tr>\n",
       "      <th>f3</th>\n",
       "      <td>3</td>\n",
       "      <td>tres</td>\n",
       "      <td>3.0</td>\n",
       "    </tr>\n",
       "  </tbody>\n",
       "</table>\n",
       "</div>"
      ],
      "text/plain": [
       "    c1  co12   c3\n",
       "f1   1   uno  1.0\n",
       "f2   2   dos  2.0\n",
       "f3   3  tres  3.0"
      ]
     },
     "execution_count": 42,
     "metadata": {
      "tags": []
     },
     "output_type": "execute_result"
    }
   ],
   "source": [
    "# PARA CAMBIAR EL NOMBRE DE UNA COLUMAN SE UTILIZA LA FUCNION RENAME\n",
    "dataframe.rename(columns = {\"c2\":\"co12\"})  # se utiliza un diccionario para identificar la columna y despues el valor que queremos asignar"
   ]
  },
  {
   "cell_type": "markdown",
   "metadata": {
    "id": "iEvlPi9tGgtY"
   },
   "source": [
    "### TRATAMIENTO DE SERIES Y DATAFRAME COMO DICCIONARIOS\n",
    "\n",
    "Dado que internamente las Series como los DataFrames pueden verse como diccionarios, podemos aplicar sobre los mismos cualquier funcionalidad que aplicariamos sobre diccionarios basicos del core de Python\n",
    "\n",
    "IMPORTANTE_: Hay que tener en cuenta que en DataFrame el diccionario es un diccionario de \"columna\""
   ]
  },
  {
   "cell_type": "code",
   "execution_count": null,
   "metadata": {
    "id": "_1AsQG2_GQoa"
   },
   "outputs": [],
   "source": [
    "serie = pd.Series([1, 2, 3, 4], index=[\"a\", \"b\", \"c\", \"d\"])\n",
    "serie"
   ]
  },
  {
   "cell_type": "code",
   "execution_count": null,
   "metadata": {
    "id": "hO-b5iNNHZL4"
   },
   "outputs": [],
   "source": [
    "dataframe = pd.DataFrame({\"var1\": serie, \"var2\":serie})\n",
    "dataframe"
   ]
  },
  {
   "cell_type": "markdown",
   "metadata": {
    "id": "emvJzyfjH0ey"
   },
   "source": [
    "INDEXACION POR CLAVE"
   ]
  },
  {
   "cell_type": "code",
   "execution_count": null,
   "metadata": {
    "id": "_-acsolBHwsS"
   },
   "outputs": [],
   "source": [
    "#INDEXACION MEDIANTE CLAVE DEL INDICE EN SERIE\n",
    "serie[\"a\"]"
   ]
  },
  {
   "cell_type": "code",
   "execution_count": null,
   "metadata": {
    "id": "ynoMyJfhHqc9"
   },
   "outputs": [],
   "source": [
    "# INDEXACION POR NOMBRE DE COLUMNA EN DATAFRAME\n",
    "dataframe[\"var2\"]"
   ]
  },
  {
   "cell_type": "markdown",
   "metadata": {
    "id": "PJn8BFijI0tR"
   },
   "source": [
    "COMPROBACION DE LA EXISTENCIA DE UNA CLAVE"
   ]
  },
  {
   "cell_type": "code",
   "execution_count": null,
   "metadata": {
    "id": "Ly2uGtkqIXZH"
   },
   "outputs": [],
   "source": [
    "# COMPROBACION DE LA EXISTENCIA DE UN CLAVE EN EL INDICE EN SERIES\n",
    "\"b\" in serie"
   ]
  },
  {
   "cell_type": "code",
   "execution_count": null,
   "metadata": {
    "id": "bOmkzgPhKpKV"
   },
   "outputs": [],
   "source": [
    "# COMPROBACION DE LA EXISTENCIA DE UN CLAVE EN EL INDICE EN SERIES\n",
    "\"b\" in dataframe"
   ]
  },
  {
   "cell_type": "code",
   "execution_count": null,
   "metadata": {
    "id": "_uXmPwLnKr_V"
   },
   "outputs": [],
   "source": [
    "# COMPROBACION DE LA EXISTENCIA DE UN CLAVE EN EL INDICE EN SERIES\n",
    "\"var1\" in dataframe"
   ]
  },
  {
   "cell_type": "markdown",
   "metadata": {
    "id": "LTE9BxG8K6JJ"
   },
   "source": [
    "ADICION DE ELEMENTOS\n",
    "\n",
    "IMPORTANTE: Al añadir columnas a un DataFrame, el tamaño del vector añadido debera coincidir con el del DataFrame original. En caso contrario se recibira un error"
   ]
  },
  {
   "cell_type": "code",
   "execution_count": null,
   "metadata": {
    "id": "yDIDELPOK4hA"
   },
   "outputs": [],
   "source": [
    "#ADICION DE ELEMENTOS A SERIES\n",
    "serie[\"e\"] = 5\n",
    "serie"
   ]
  },
  {
   "cell_type": "code",
   "execution_count": null,
   "metadata": {
    "id": "ppoHN3JmLUte"
   },
   "outputs": [],
   "source": [
    "dataframe[\"var3\"] = [5, 6, 7, 4]\n",
    "dataframe"
   ]
  },
  {
   "cell_type": "markdown",
   "metadata": {
    "id": "OCXjdplALmao"
   },
   "source": [
    "ELIMINACION DE ELEMENTOS"
   ]
  },
  {
   "cell_type": "code",
   "execution_count": null,
   "metadata": {
    "id": "kmtaUmkALkvz"
   },
   "outputs": [],
   "source": [
    "#ELIMINACION DE ELEMENTOS EN SERIE\n",
    "del serie[\"e\"]\n",
    "serie"
   ]
  },
  {
   "cell_type": "code",
   "execution_count": null,
   "metadata": {
    "id": "MKmW4j4vLyKB"
   },
   "outputs": [],
   "source": [
    "#ELIMINACION DE COLUMNAS EN DATAFRAME\n",
    "del dataframe[\"var3\"]\n",
    "dataframe"
   ]
  },
  {
   "cell_type": "code",
   "execution_count": null,
   "metadata": {
    "id": "F5u-oXl1MV94"
   },
   "outputs": [],
   "source": []
  },
  {
   "cell_type": "markdown",
   "metadata": {
    "id": "Nf0hI3AcMvvM"
   },
   "source": [
    "TRATAMIENTO DE SERIES Y DATAFRAME COMO N.D.ARRAYS\n",
    "\n",
    "Dado que, internamente, cualquier esetructura de pandas esta implementada sobre ndarrays de Numpy, es posible realizar sobre Series y DataFrame todas las opereaciones que se pueden realizar sobre un ndarrays\n",
    "\n",
    "IMPORTANTE: Dado que un ndarrays no pude mezclar elementos de diferentes tipos y un DataFrame si, algunas de las operaciones  sobre DataFrame estaran suspenditadas a que todas sus columnas tengan el mismo tipo"
   ]
  },
  {
   "cell_type": "code",
   "execution_count": null,
   "metadata": {
    "id": "yK5q2eUQRhju"
   },
   "outputs": [],
   "source": [
    "serie = pd.Series([1, 2, 3, 4], index=[\"a\", \"b\", \"c\", \"d\"])\n",
    "serie"
   ]
  },
  {
   "cell_type": "code",
   "execution_count": null,
   "metadata": {
    "id": "bMN8AYv0TQY7"
   },
   "outputs": [],
   "source": [
    "dataframe = pd.DataFrame({\"var1\": pd.Series(serie, dtype=np.int32), \"var2\": pd.Series(serie, dtype=string_)})\n",
    "dataframe"
   ]
  },
  {
   "cell_type": "markdown",
   "metadata": {
    "id": "7ixdB9R5SAVs"
   },
   "source": [
    "CONSULTA DE LA COMPOSICION\n",
    "\n",
    "Disponemos de los mismos atributos de consulta que en ndarryas, si bien hay que tener en cuenta que:\n",
    "\n",
    "* El atributo dtype sera styoe en DataFrame dada la posibilidad de multiples tipos\n",
    "* El atributo ndim en Series valdra 1 dado que siempre son estructuras unidimensionales y 2 en DataFramen dado que siempre son estructuras bidimensionales"
   ]
  },
  {
   "cell_type": "code",
   "execution_count": null,
   "metadata": {
    "id": "5R3UrhHESiN5"
   },
   "outputs": [],
   "source": [
    "#CONSULTA DEL TIPO ALMACENADO EN UNA SERIE"
   ]
  },
  {
   "cell_type": "code",
   "execution_count": null,
   "metadata": {
    "id": "gWAgxNnhSoAy"
   },
   "outputs": [],
   "source": [
    "#CONSULTA DE LOS TIPOS ALMACENADOS EN UN DATAFRAME"
   ]
  },
  {
   "cell_type": "code",
   "execution_count": null,
   "metadata": {
    "id": "O5sLhZRASvX6"
   },
   "outputs": [],
   "source": [
    "#CONSULTA DEL NUMERO DE DIMESNIONES EN UNA SERIE"
   ]
  },
  {
   "cell_type": "code",
   "execution_count": null,
   "metadata": {
    "id": "o3Rk6jjnSz0c"
   },
   "outputs": [],
   "source": [
    "#CONSULTA DEL NUMERO DE DIMENSIONES EN UN DATAFRAME"
   ]
  },
  {
   "cell_type": "code",
   "execution_count": null,
   "metadata": {
    "id": "Qr_NsxgHS4Ke"
   },
   "outputs": [],
   "source": []
  }
 ],
 "metadata": {
  "colab": {
   "collapsed_sections": [
    "S3NsSmn31HwU",
    "7RUW8aRg1ZKA",
    "79MwqGYLy9Wn",
    "iEvlPi9tGgtY"
   ],
   "name": "5Pandas_Intro.ipynb",
   "provenance": []
  },
  "kernelspec": {
   "display_name": "Python 3 (ipykernel)",
   "language": "python",
   "name": "python3"
  },
  "language_info": {
   "codemirror_mode": {
    "name": "ipython",
    "version": 3
   },
   "file_extension": ".py",
   "mimetype": "text/x-python",
   "name": "python",
   "nbconvert_exporter": "python",
   "pygments_lexer": "ipython3",
   "version": "3.9.7"
  }
 },
 "nbformat": 4,
 "nbformat_minor": 4
}
