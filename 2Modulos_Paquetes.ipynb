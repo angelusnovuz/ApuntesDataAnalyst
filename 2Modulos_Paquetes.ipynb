{
 "cells": [
  {
   "cell_type": "markdown",
   "metadata": {
    "id": "O9ZyJfgulZ2O"
   },
   "source": [
    "# MODULOS Y PAQUETES\n",
    "\n",
    "* Por defectos, en un script de PYTHON tiene acceso a todas las variables y funciones delineadas en el propio fichero\n",
    "* Es posible acceder a elementos definidos en otros ficheros mediante la importacion de modulos\n",
    "* Un fichero es .py es un modulo de Python cuyo nombre es el mismo que el del fichero (sin extension)\n",
    "* La forma de incorporar elementos definidos en un modulo es mediante el uso de la setencia \"import\"\n"
   ]
  },
  {
   "cell_type": "markdown",
   "metadata": {
    "id": "6o48hVSfo4lh"
   },
   "source": [
    "IMPORTAR MODULOS COMPLETOS\n",
    "\n",
    "Se importa todo el contenido del modulo y es necesario utilizar el alias delante de las funciones"
   ]
  },
  {
   "cell_type": "code",
   "execution_count": null,
   "metadata": {
    "id": "saYaNmZ7o8x6"
   },
   "outputs": [],
   "source": [
    "import numpy"
   ]
  },
  {
   "cell_type": "code",
   "execution_count": null,
   "metadata": {
    "id": "86ZTDCSeo3pY"
   },
   "outputs": [],
   "source": [
    "array = numpy.array([[1,2], [3,4]])\n",
    "mean = numpy.mean(array)\n",
    "print(array)\n",
    "print(mean)"
   ]
  },
  {
   "cell_type": "markdown",
   "metadata": {
    "id": "-ZwdTyF_qOR0"
   },
   "source": [
    "IMPORTAR TODO EL CONTENIDO DEL MODULO\n",
    "\n",
    "Se importa todo el contenido del modulo y se incorporarn sus funciones al entorno de trbajo actual, por lo que no es necesario especificar \n",
    "\n",
    "CUIDADDO; esto sobreescribiria cualquier funcion de mismo nombre del entorno de trabajo "
   ]
  },
  {
   "cell_type": "code",
   "execution_count": null,
   "metadata": {
    "id": "hWn4jtigrGZ1"
   },
   "outputs": [],
   "source": [
    "from numpy import ^\n",
    "array = array([[1,2], [3,4]])\n",
    "mean = mean(array)\n",
    "print(array)\n",
    "print(mean)"
   ]
  },
  {
   "cell_type": "markdown",
   "metadata": {
    "id": "XuXz8oNEra3l"
   },
   "source": [
    "IMPORTAR UN ELEMENTO ESPECIFICO DEL MODULO\n",
    "\n",
    "Se importa unicamente el elemento seleccionado, aunque tambien hay peligro de sobrescritura"
   ]
  },
  {
   "cell_type": "code",
   "execution_count": null,
   "metadata": {
    "id": "uy48rI73r3tA"
   },
   "outputs": [],
   "source": [
    "from numpy import array, mean\n",
    "array = array([[1,2], [3,4]])\n",
    "mean2 = mean(array)\n",
    "print(array)\n",
    "print(mean2)"
   ]
  },
  {
   "cell_type": "markdown",
   "metadata": {
    "id": "jQR71e6sr4R5"
   },
   "source": [
    "IMPORTAR CON ALIAS\n",
    "\n",
    "Se puede especificar un alias a los elementos importados de forma que no hay sobreescritura"
   ]
  },
  {
   "cell_type": "code",
   "execution_count": null,
   "metadata": {
    "id": "SFHxJlOCsOEu"
   },
   "outputs": [],
   "source": [
    "from numpy import array as array_numpy\n",
    "array = array_numpy([[1,2], [3,4]])\n",
    "mean = np.mean(array)\n",
    "print(array)"
   ]
  },
  {
   "cell_type": "markdown",
   "metadata": {
    "id": "Ij8tb80Mth8u"
   },
   "source": [
    "MODULOS CONOCIDOS DE LA BIBLIOTECA ESTANDAR\n",
    "\n",
    "* sys: funcinalidad y configuracion del interprete de Python (rutas donde buscar modulos)\n",
    "* os: funcionalidad propia del sistema operativo (gestion de logins, usuarios)\n",
    "* os.path:funcionalidad para la gestion de directorios\n",
    "* math: funciones matematicas\n",
    "* random:funcion para la gestion de numeros aleatorios"
   ]
  },
  {
   "cell_type": "markdown",
   "metadata": {
    "id": "YX856hlmurTS"
   },
   "source": [
    "HERRAMIENTAS DE PIP\n",
    "\n",
    "* list: lista de paquetes instalados\n",
    "* search: busqueda de paquetes en el repositorio\n",
    "* install: instalar un paquete\n",
    "* update: actualizar un paquete"
   ]
  },
  {
   "cell_type": "code",
   "execution_count": null,
   "metadata": {
    "id": "eRlRbWtatejh"
   },
   "outputs": [],
   "source": []
  }
 ],
 "metadata": {
  "colab": {
   "name": "2Modulos_Paquetes.ipynb",
   "provenance": []
  },
  "kernelspec": {
   "display_name": "Python 3 (ipykernel)",
   "language": "python",
   "name": "python3"
  },
  "language_info": {
   "codemirror_mode": {
    "name": "ipython",
    "version": 3
   },
   "file_extension": ".py",
   "mimetype": "text/x-python",
   "name": "python",
   "nbconvert_exporter": "python",
   "pygments_lexer": "ipython3",
   "version": "3.9.7"
  }
 },
 "nbformat": 4,
 "nbformat_minor": 4
}
