{
 "cells": [
  {
   "cell_type": "markdown",
   "metadata": {
    "id": "528o2PL433Ej"
   },
   "source": [
    "# OPERACIONES SOBRE N.D.ARRAYS\n",
    "\n",
    "Numpy pone anuestra disposicion un amplio conjunto de funciones optimizadas para palicar sobre ndarrays de forma global evitando asi la necesidad de utilizar bucles (muchos mas costosos) "
   ]
  },
  {
   "cell_type": "code",
   "execution_count": null,
   "metadata": {
    "id": "wY9_xHpN3ZjW"
   },
   "outputs": [],
   "source": [
    "import  numpy as np"
   ]
  },
  {
   "cell_type": "markdown",
   "metadata": {
    "id": "ezMVw_ER5Xiy"
   },
   "source": [
    "### OPERACIONES ELEMENTO A ELEMENTO (UNIVERSAL FUNCTIONS)\n",
    "\n",
    "El primero de los conjuntos de funciones ofrecidos por Numpy son las llamadas \"funciones universales\" (o ufuncs) que permiten la realizacion de operaciones elemento a elemento de un array. En funcion del numero de parametros encontramos dos tipos de funciones universales:"
   ]
  },
  {
   "cell_type": "markdown",
   "metadata": {
    "id": "56H_khgL76YD"
   },
   "source": [
    "FUNCIONES UNITARIAS \n",
    "\n",
    "Son aquellas funciones que reciben como parametros un unico ndarray\n",
    "* abs, fabs : valor absoluto\n",
    "* sqrt: raiz cuadrada ( equivalente a array *\\*\\ 0.5)\n",
    "* square: potencia al cuadrado ( equivalente a array ** 2)\n",
    "* exp: potencia de e\n",
    "* log, log10, log2, log1p: logaritmos en distintos bases\n",
    "* sign: signo (\n",
    "* Ceil: techo (Redondear hacia arrriba)\n",
    "* floor: suelo  (Redondear hacia abajo)\n",
    "* Rint: redondeo al entero mas cercano\n",
    "* modf: devuelve dos arrays una con la parte fraccionaria fracciones y otra con enteros\n",
    "* inan: devuelve un array boleano indicando si el valor es finito o infinito\n",
    "* isfinite, isinf: devuelve un array boleano indicando si el valor es finito o infinito\n",
    "* cos, cosh, sin, sinh, tan, tanh: funciones trigonometricas\n",
    "* arcco, arccosh, arcsin, arcsinh, arctan, arctanh: funciones trigonometricas inversas\n",
    "* logical_not: inverso boleano de todos los valores del array"
   ]
  },
  {
   "cell_type": "code",
   "execution_count": null,
   "metadata": {
    "colab": {
     "base_uri": "https://localhost:8080/"
    },
    "id": "d2jd_YLD5LCi",
    "outputId": "8ddcbc88-0705-4662-94a3-07b36317968f"
   },
   "outputs": [
    {
     "data": {
      "text/plain": [
       "array([1, 2, 3, 4, 5])"
      ]
     },
     "execution_count": 5,
     "metadata": {
      "tags": []
     },
     "output_type": "execute_result"
    }
   ],
   "source": [
    "array = np.array([-1, 2, 3, 4, 5]) #valores absolutos\n",
    "np.abs(array)"
   ]
  },
  {
   "cell_type": "code",
   "execution_count": null,
   "metadata": {
    "colab": {
     "base_uri": "https://localhost:8080/"
    },
    "id": "GTWJAVLoGWVB",
    "outputId": "d7d6f3bd-d678-4c4c-a988-1570afff3d5c"
   },
   "outputs": [
    {
     "data": {
      "text/plain": [
       "array([-1,  1,  1,  1,  1])"
      ]
     },
     "execution_count": 6,
     "metadata": {
      "tags": []
     },
     "output_type": "execute_result"
    }
   ],
   "source": [
    "np.sign(array) # signo negativo o positivo"
   ]
  },
  {
   "cell_type": "code",
   "execution_count": null,
   "metadata": {
    "id": "76z5Bo4KGgmL"
   },
   "outputs": [],
   "source": [
    "np.ceil(array) #redondeo "
   ]
  },
  {
   "cell_type": "markdown",
   "metadata": {
    "id": "o24B_-SjGme3"
   },
   "source": [
    "### FUNCIONES BINARIAS\n",
    "\n",
    "Son aquellas funciones que reciben como parametrso dos arrays\n",
    "\n",
    "* add: Adicion de elementos de los dos arrays (equivalente a array1 + array2)\n",
    "* subtract: Resta de los elementos de los dos arrays (equivalente a array1 - array2)\n",
    "* multiply: Multiplica los elementos de los dos arrays (equivalente a array1 * array2)\n",
    "* divide: Divide los elementos de los dos arrays (equivalente a array1 / array2)\n",
    "* power: Eleva los elementos del primer array a las potencias del segundo (equivalente a array1 ** array2)\n",
    "* maximum, fmax: Calcula el maximo de los dos arrays (elemento a elemento). fmax ignora NaN\n",
    "* minimum, fmin:Calcula el minimo de los dos arrays (elemento a elemento). fmin ignora NaN\n",
    "* mod: Calcula el resto de la division de los dos arrays (equivalente a array1 % array2)\n",
    "* greater, greater_equal, less, less_qual, equal, not_equal: Comparativas sobre los elementos de ambos ndarrays (elemento a elemento)\n",
    "* logical_and, logical_or: Operaciones boleanas sobre los elementos de ambos ndarrays (elemento a elemento)"
   ]
  },
  {
   "cell_type": "code",
   "execution_count": null,
   "metadata": {
    "colab": {
     "base_uri": "https://localhost:8080/"
    },
    "id": "gUAcW9LRGjU7",
    "outputId": "0da8c5c9-b34e-48a4-ad7b-e8647044903a"
   },
   "outputs": [
    {
     "data": {
      "text/plain": [
       "array([[0.02181578, 0.18263442, 0.99915584, 0.3059701 , 0.38437998],\n",
       "       [0.07275482, 0.85045648, 0.6851169 , 0.99129131, 0.27458217],\n",
       "       [0.50381128, 0.44390466, 0.1826658 , 0.15648745, 0.29508877],\n",
       "       [0.68006127, 0.78439069, 0.42498883, 0.27440684, 0.51890503],\n",
       "       [0.56627011, 0.3562565 , 0.46120204, 0.13183219, 0.69076472]])"
      ]
     },
     "execution_count": 9,
     "metadata": {
      "tags": []
     },
     "output_type": "execute_result"
    }
   ],
   "source": [
    "array1 = np.random.rand(5, 5)\n",
    "array1"
   ]
  },
  {
   "cell_type": "code",
   "execution_count": null,
   "metadata": {
    "colab": {
     "base_uri": "https://localhost:8080/"
    },
    "id": "99ZZuHMGH_do",
    "outputId": "e514f37d-869a-4ffe-f2e1-60eb958e36d2"
   },
   "outputs": [
    {
     "data": {
      "text/plain": [
       "array([[0.21641427, 0.31207311, 0.2492018 , 0.19060418, 0.28290199],\n",
       "       [0.93714804, 0.78360349, 0.92541557, 0.75261037, 0.50843842],\n",
       "       [0.90264904, 0.27873492, 0.00953631, 0.38077509, 0.42045938],\n",
       "       [0.19243472, 0.77083105, 0.06019282, 0.8116027 , 0.96118096],\n",
       "       [0.90172232, 0.05830047, 0.25270937, 0.18151753, 0.06396413]])"
      ]
     },
     "execution_count": 10,
     "metadata": {
      "tags": []
     },
     "output_type": "execute_result"
    }
   ],
   "source": [
    "array2 = np.random.rand(5, 5)\n",
    "array2"
   ]
  },
  {
   "cell_type": "code",
   "execution_count": null,
   "metadata": {
    "colab": {
     "base_uri": "https://localhost:8080/"
    },
    "id": "QWHLmYL9IGvC",
    "outputId": "773d043b-c7e4-4cbf-bb80-323f181e3124"
   },
   "outputs": [
    {
     "data": {
      "text/plain": [
       "array([[0.02181578, 0.18263442, 0.2492018 , 0.19060418, 0.28290199],\n",
       "       [0.07275482, 0.78360349, 0.6851169 , 0.75261037, 0.27458217],\n",
       "       [0.50381128, 0.27873492, 0.00953631, 0.15648745, 0.29508877],\n",
       "       [0.19243472, 0.77083105, 0.06019282, 0.27440684, 0.51890503],\n",
       "       [0.56627011, 0.05830047, 0.25270937, 0.13183219, 0.06396413]])"
      ]
     },
     "execution_count": 11,
     "metadata": {
      "tags": []
     },
     "output_type": "execute_result"
    }
   ],
   "source": [
    "np.minimum(array1, array2) #compara las dos matrices elemento a elemento y arroja el valor minimo de ambas"
   ]
  },
  {
   "cell_type": "code",
   "execution_count": null,
   "metadata": {
    "colab": {
     "base_uri": "https://localhost:8080/"
    },
    "id": "2OmXCRQsIQGE",
    "outputId": "4aec2acc-225c-4321-f423-2e26d8b37d63"
   },
   "outputs": [
    {
     "data": {
      "text/plain": [
       "array([[ 0.10080565,  0.58522959,  4.00942466,  1.60526436,  1.35870372],\n",
       "       [ 0.07763429,  1.08531482,  0.7403343 ,  1.31713746,  0.54005   ],\n",
       "       [ 0.55814747,  1.59256923, 19.15477189,  0.41097082,  0.70182469],\n",
       "       [ 3.53398426,  1.01759094,  7.06045662,  0.33810489,  0.53986195],\n",
       "       [ 0.62798725,  6.11069734,  1.82502947,  0.72627803, 10.7992515 ]])"
      ]
     },
     "execution_count": 12,
     "metadata": {
      "tags": []
     },
     "output_type": "execute_result"
    }
   ],
   "source": [
    "np.divide(array1, array2) # divide la matriz1 entre la matriz2 elemento a elemento"
   ]
  },
  {
   "cell_type": "code",
   "execution_count": null,
   "metadata": {
    "colab": {
     "base_uri": "https://localhost:8080/"
    },
    "id": "4XWg8yrmIUJn",
    "outputId": "6262264f-e179-4ca2-98b2-48e009033e0f"
   },
   "outputs": [
    {
     "data": {
      "text/plain": [
       "array([[ 0.,  0.,  4.,  1.,  1.],\n",
       "       [ 0.,  1.,  0.,  1.,  0.],\n",
       "       [ 0.,  1., 19.,  0.,  0.],\n",
       "       [ 3.,  1.,  7.,  0.,  0.],\n",
       "       [ 0.,  6.,  1.,  0., 10.]])"
      ]
     },
     "execution_count": 13,
     "metadata": {
      "tags": []
     },
     "output_type": "execute_result"
    }
   ],
   "source": [
    "np.floor_divide(array1, array2)"
   ]
  },
  {
   "cell_type": "markdown",
   "metadata": {
    "id": "hNvgxfrlIg1x"
   },
   "source": [
    "SELECCION DE ELEMENTOS DE N.D.ARRAYS EN FUNCION DE UNA CONDICION\n",
    "\n",
    "Numpy pone a nuestra disposicion, a trves de una funcion np.where la poisiblidad de generar un array de salida a partir de dos de entrada, establceiendo una mascara boleana que indiques si (elemento a elemento) debemos enviar a la salida el elementodel primer ndarray (valor true) o de segundo (valor false)."
   ]
  },
  {
   "cell_type": "code",
   "execution_count": null,
   "metadata": {
    "colab": {
     "base_uri": "https://localhost:8080/"
    },
    "id": "LOIPF9IlIb6t",
    "outputId": "82ff384b-67a5-4aa2-9aed-a9f95623ee4d"
   },
   "outputs": [
    {
     "data": {
      "text/plain": [
       "array([[0.37476793, 0.01007352, 0.46268795, 0.88320908, 0.03366352],\n",
       "       [0.4568405 , 0.76511396, 0.28214077, 0.31723246, 0.83154144],\n",
       "       [0.42654294, 0.32439823, 0.27109819, 0.56529042, 0.95832378],\n",
       "       [0.50958776, 0.76599688, 0.85346904, 0.2198772 , 0.80701976],\n",
       "       [0.83294134, 0.37050333, 0.69015498, 0.82860814, 0.98042696]])"
      ]
     },
     "execution_count": 14,
     "metadata": {
      "tags": []
     },
     "output_type": "execute_result"
    }
   ],
   "source": [
    "array1 = np.random.rand(5, 5)\n",
    "array1"
   ]
  },
  {
   "cell_type": "code",
   "execution_count": null,
   "metadata": {
    "colab": {
     "base_uri": "https://localhost:8080/"
    },
    "id": "ZjYYE_m_MDCF",
    "outputId": "dd5c318a-8335-4697-ee6a-3f439b2d1214"
   },
   "outputs": [
    {
     "data": {
      "text/plain": [
       "array([[0.57727218, 0.75722466, 0.4295585 , 0.64953667, 0.88053714],\n",
       "       [0.85105647, 0.50489139, 0.16896275, 0.70272756, 0.11655102],\n",
       "       [0.55096708, 0.0243341 , 0.69083621, 0.82590086, 0.93554934],\n",
       "       [0.11650313, 0.1632964 , 0.1485886 , 0.9466145 , 0.46286725],\n",
       "       [0.08165461, 0.3611877 , 0.14483205, 0.63839847, 0.11717435]])"
      ]
     },
     "execution_count": 15,
     "metadata": {
      "tags": []
     },
     "output_type": "execute_result"
    }
   ],
   "source": [
    "array2 = np.random.rand(5, 5)\n",
    "array2"
   ]
  },
  {
   "cell_type": "code",
   "execution_count": null,
   "metadata": {
    "colab": {
     "base_uri": "https://localhost:8080/"
    },
    "id": "dIJdw3bwMN9m",
    "outputId": "2dff9da7-4377-4249-e732-bcb5984e6f04"
   },
   "outputs": [
    {
     "data": {
      "text/plain": [
       "array([[0.37476793, 0.01007352, 0.4295585 , 0.64953667, 0.03366352],\n",
       "       [0.4568405 , 0.50489139, 0.16896275, 0.31723246, 0.11655102],\n",
       "       [0.42654294, 0.0243341 , 0.27109819, 0.56529042, 0.93554934],\n",
       "       [0.11650313, 0.1632964 , 0.1485886 , 0.2198772 , 0.46286725],\n",
       "       [0.08165461, 0.3611877 , 0.14483205, 0.63839847, 0.11717435]])"
      ]
     },
     "execution_count": 16,
     "metadata": {
      "tags": []
     },
     "output_type": "execute_result"
    }
   ],
   "source": [
    "# Funsion condicional\n",
    "np.where(array1 < array2, array1, array2) # funcion, poner la condicion entre ambas matrice, el resulta que debe arroja si se cumple\n",
    "# y el resulatado que debe arrojar si no se cumple"
   ]
  },
  {
   "cell_type": "code",
   "execution_count": null,
   "metadata": {
    "colab": {
     "base_uri": "https://localhost:8080/"
    },
    "id": "C93Sp6dsMcan",
    "outputId": "5b998d9f-e826-4881-b2e2-20936322d9d8"
   },
   "outputs": [
    {
     "data": {
      "text/plain": [
       "array([[0.37476793, 0.01007352, 0.4295585 , 0.64953667, 0.03366352],\n",
       "       [0.4568405 , 0.50489139, 0.16896275, 0.31723246, 0.11655102],\n",
       "       [0.42654294, 0.0243341 , 0.27109819, 0.56529042, 0.93554934],\n",
       "       [0.11650313, 0.1632964 , 0.1485886 , 0.2198772 , 0.46286725],\n",
       "       [0.08165461, 0.3611877 , 0.14483205, 0.63839847, 0.11717435]])"
      ]
     },
     "execution_count": 17,
     "metadata": {
      "tags": []
     },
     "output_type": "execute_result"
    }
   ],
   "source": [
    "# Anidacion de Condicion\n",
    "np.where(array1 < array2, np.where(array1 < 0, 0, array1), array2)"
   ]
  },
  {
   "cell_type": "markdown",
   "metadata": {
    "id": "iFbi5FrcIxhE"
   },
   "source": [
    "### FUNCIONES MATEMATICAS Y ESTADISTICAS\n",
    "\n",
    "\n",
    "Numpy pone a nuestra disposicion un conjunto de funciones matematicas y estadisticas que se pueden aplicar sobre ndarrays. A continuacion se pueden encontrar los ejemplos mas tipicos ( hay mas que pueden consultarse en la documentaciond e PYTHON)\n",
    "\n",
    "* sum: suma de elementos\n",
    "* mean: media aritmetica de los elementos\n",
    "* median: mediana de los elementos\n",
    "* std: desviacion estandar\n",
    "* var: varianza\n",
    "* min: valor minimo\n",
    "* max: valor maximo\n",
    "* argmin: indice de valor minimo (posicion del valor)\n",
    "* argmax: indice del valor maximo (posicion del valor)\n",
    "* cumsum: suma acumulada de los elementos\n",
    "* cumprod: producto acumulado de los elementos\n",
    "\n",
    "\n"
   ]
  },
  {
   "cell_type": "code",
   "execution_count": null,
   "metadata": {
    "colab": {
     "base_uri": "https://localhost:8080/"
    },
    "id": "ePUrJhMzL5DT",
    "outputId": "8d6787ac-a127-4226-d28e-f2abb9f0a0d7"
   },
   "outputs": [
    {
     "data": {
      "text/plain": [
       "array([[0.76872157, 0.17809585, 0.59414741, 0.8626939 ],\n",
       "       [0.77705437, 0.27628309, 0.23301521, 0.7984883 ],\n",
       "       [0.43092978, 0.50011891, 0.01798615, 0.41976605],\n",
       "       [0.10731882, 0.12435074, 0.44246909, 0.66637328],\n",
       "       [0.84015958, 0.17008204, 0.0589267 , 0.80125104]])"
      ]
     },
     "execution_count": 18,
     "metadata": {
      "tags": []
     },
     "output_type": "execute_result"
    }
   ],
   "source": [
    "array_uno = np.random.rand(5, 4)\n",
    "array_uno"
   ]
  },
  {
   "cell_type": "code",
   "execution_count": null,
   "metadata": {
    "colab": {
     "base_uri": "https://localhost:8080/"
    },
    "id": "qznwANb2l63y",
    "outputId": "7e1ce45a-4b97-44bf-ffc3-57ea1cfb6de4"
   },
   "outputs": [
    {
     "data": {
      "text/plain": [
       "9.068231892607368"
      ]
     },
     "execution_count": 19,
     "metadata": {
      "tags": []
     },
     "output_type": "execute_result"
    }
   ],
   "source": [
    "# OPERACION GLOBAL\n",
    "np.sum(array_uno)"
   ]
  },
  {
   "cell_type": "code",
   "execution_count": null,
   "metadata": {
    "colab": {
     "base_uri": "https://localhost:8080/"
    },
    "id": "We6NtxOHmkQw",
    "outputId": "6d98a021-8b5b-4441-9f02-16b5993099ae"
   },
   "outputs": [
    {
     "data": {
      "text/plain": [
       "array([2.92418414, 1.24893063, 1.34654456, 3.54857257])"
      ]
     },
     "execution_count": 20,
     "metadata": {
      "tags": []
     },
     "output_type": "execute_result"
    }
   ],
   "source": [
    "# OPERACION POR COLUMNAS\n",
    "np.sum(array_uno, axis=0) "
   ]
  },
  {
   "cell_type": "code",
   "execution_count": null,
   "metadata": {
    "colab": {
     "base_uri": "https://localhost:8080/"
    },
    "id": "TNTuotDxmsVq",
    "outputId": "e688e4c9-ff84-4fdc-a96a-8c88fd806d6c"
   },
   "outputs": [
    {
     "data": {
      "text/plain": [
       "array([2.40365873, 2.08484097, 1.36880089, 1.34051193, 1.87041936])"
      ]
     },
     "execution_count": 21,
     "metadata": {
      "tags": []
     },
     "output_type": "execute_result"
    }
   ],
   "source": [
    "# OPERACION POR FILAS\n",
    "np.sum(array_uno, axis=1)"
   ]
  },
  {
   "cell_type": "markdown",
   "metadata": {
    "id": "F0M3SlwgnNFv"
   },
   "source": [
    "Adicionalmente alguna de estas funciones pueden ser utilizadas como metodos de los ndarrays y no solo como funciones de si mismos.En este caso la sintaxis cambiara y se utlizara la notacion \"ndarrays.funtion()\""
   ]
  },
  {
   "cell_type": "code",
   "execution_count": null,
   "metadata": {
    "colab": {
     "base_uri": "https://localhost:8080/"
    },
    "id": "gxBDF36RnGzD",
    "outputId": "3bb46428-a94d-4e81-aed7-a15b6365bf8e"
   },
   "outputs": [
    {
     "data": {
      "text/plain": [
       "9.068231892607368"
      ]
     },
     "execution_count": 22,
     "metadata": {
      "tags": []
     },
     "output_type": "execute_result"
    }
   ],
   "source": [
    "array_uno.sum()"
   ]
  },
  {
   "cell_type": "code",
   "execution_count": null,
   "metadata": {
    "colab": {
     "base_uri": "https://localhost:8080/"
    },
    "id": "EcFACCLlnTYW",
    "outputId": "3eb3ec16-542b-4888-a588-e5e015670332"
   },
   "outputs": [
    {
     "data": {
      "text/plain": [
       "3"
      ]
     },
     "execution_count": 23,
     "metadata": {
      "tags": []
     },
     "output_type": "execute_result"
    }
   ],
   "source": [
    "np.argmax(array_uno)"
   ]
  },
  {
   "cell_type": "code",
   "execution_count": null,
   "metadata": {
    "id": "BmrNnF7CnYTq"
   },
   "outputs": [],
   "source": [
    "np.argmin(array_uno)"
   ]
  },
  {
   "cell_type": "code",
   "execution_count": null,
   "metadata": {
    "id": "xcCzft-onmIN"
   },
   "outputs": [],
   "source": [
    "np.cumsum(array_uno)"
   ]
  },
  {
   "cell_type": "code",
   "execution_count": null,
   "metadata": {
    "id": "iabcVNvuns-P"
   },
   "outputs": [],
   "source": [
    "np.cumprod(array_uno)"
   ]
  },
  {
   "cell_type": "markdown",
   "metadata": {
    "id": "aMRrGKLpn9QX"
   },
   "source": [
    "### OPERACIONES SOBRE N.D.ARRAYS BOLEANOS\n",
    "\n",
    "Dado que internamente, Python intercambia los valores boleanos True como 1 y los falsos como 0, es muy sencillo realizar operaciones matecaticas sobre estos mismos boleanos de forma que se puedan hacer diferentes chequeos_\n",
    "\n",
    "\n"
   ]
  },
  {
   "cell_type": "code",
   "execution_count": null,
   "metadata": {
    "colab": {
     "base_uri": "https://localhost:8080/"
    },
    "id": "ftk49Ef7nvG9",
    "outputId": "3ebc99ac-6d47-4b32-d6ed-272147928a86"
   },
   "outputs": [
    {
     "data": {
      "text/plain": [
       "array([[0.73514033, 0.5022697 , 0.53635459, 0.70462268, 0.9293064 ],\n",
       "       [0.36183305, 0.7660393 , 0.05416232, 0.67392897, 0.64719695],\n",
       "       [0.43840864, 0.53009317, 0.86578483, 0.53032153, 0.42403655],\n",
       "       [0.85983734, 0.53441001, 0.26116817, 0.12155794, 0.82616945],\n",
       "       [0.02960368, 0.04254352, 0.26262755, 0.40968331, 0.07958586]])"
      ]
     },
     "execution_count": 24,
     "metadata": {
      "tags": []
     },
     "output_type": "execute_result"
    }
   ],
   "source": [
    "array_uno = np.random.rand(5, 5)\n",
    "array_uno"
   ]
  },
  {
   "cell_type": "code",
   "execution_count": null,
   "metadata": {
    "colab": {
     "base_uri": "https://localhost:8080/"
    },
    "id": "X1X31Arvsgee",
    "outputId": "252b39ff-9065-4b19-f3f1-2f7f842a02c7"
   },
   "outputs": [
    {
     "data": {
      "text/plain": [
       "25"
      ]
     },
     "execution_count": 27,
     "metadata": {
      "tags": []
     },
     "output_type": "execute_result"
    }
   ],
   "source": [
    "#ELEMENTOS MAYORES QUE 0\n",
    "(array_uno > 0). sum() #convierte los elementos TRUE =1 y FALSE =0, despues lo suma"
   ]
  },
  {
   "cell_type": "code",
   "execution_count": null,
   "metadata": {
    "colab": {
     "base_uri": "https://localhost:8080/"
    },
    "id": "Hbl-ST1yszgi",
    "outputId": "4cff1519-ba9a-4fac-88ba-f4fbcb1ed9c6"
   },
   "outputs": [
    {
     "data": {
      "text/plain": [
       "11"
      ]
     },
     "execution_count": 30,
     "metadata": {
      "tags": []
     },
     "output_type": "execute_result"
    }
   ],
   "source": [
    "#ELMENTOS MENORES QUE LA MEDIA\n",
    "(array_uno < array_uno.mean()).sum()"
   ]
  },
  {
   "cell_type": "markdown",
   "metadata": {
    "id": "HX2NblpHtd-_"
   },
   "source": [
    "Numpy tambien pone a nuestra disposicion dos funciones de chequeo predefinidas sobre ndarrays boleanos\n",
    "* any: para saber si alguno de los elementos es True\n",
    "* all: para saber si todos los elementos son True"
   ]
  },
  {
   "cell_type": "code",
   "execution_count": null,
   "metadata": {
    "id": "nnb7cn3-tGHK"
   },
   "outputs": [],
   "source": [
    "#ELEMENTOS MAYORES QUE LA MEDIA\n",
    "(array_uno == 0). any() #any = hay alguno, o por lo menos uno"
   ]
  },
  {
   "cell_type": "code",
   "execution_count": null,
   "metadata": {
    "id": "CsnXQvTItm-C"
   },
   "outputs": [],
   "source": [
    "#ELEMENTOS MAYORES QUE LA MEDIA\n",
    "((array_uno >= -2) & (array_uno <= 2)).all() #all= todos cumplen"
   ]
  },
  {
   "cell_type": "markdown",
   "metadata": {
    "id": "v04EPzh0t_ve"
   },
   "source": [
    "### ORDENACION DE N.D.ARRAYS"
   ]
  },
  {
   "cell_type": "code",
   "execution_count": null,
   "metadata": {
    "id": "-e-8ldwCt8v4"
   },
   "outputs": [],
   "source": [
    "array_o = np.random.rand(5, 5)\n",
    "array_o"
   ]
  },
  {
   "cell_type": "code",
   "execution_count": null,
   "metadata": {
    "id": "K0J3-KyjBYb7"
   },
   "outputs": [],
   "source": [
    "#DATOS ORDENADOS\n",
    "np.sort(array_o)"
   ]
  },
  {
   "cell_type": "code",
   "execution_count": null,
   "metadata": {
    "colab": {
     "base_uri": "https://localhost:8080/"
    },
    "id": "1Lkoaqc9CDny",
    "outputId": "e694b070-ff34-4974-c72e-f48d3c29c59d"
   },
   "outputs": [
    {
     "data": {
      "text/plain": [
       "array([[0.03008455, 0.1001876 , 0.44649657, 0.0720539 , 0.11847888],\n",
       "       [0.03045116, 0.46031455, 0.45692211, 0.07265647, 0.19249314],\n",
       "       [0.08973693, 0.67915248, 0.62742801, 0.13819935, 0.27580473],\n",
       "       [0.25354571, 0.73013829, 0.81099639, 0.40153038, 0.6070831 ],\n",
       "       [0.2570591 , 0.81387422, 0.96958629, 0.83196836, 0.96589559]])"
      ]
     },
     "execution_count": 36,
     "metadata": {
      "tags": []
     },
     "output_type": "execute_result"
    }
   ],
   "source": [
    "#DATOS ORDENADOS SEGUN EL PRIMER EJE\n",
    "np.sort(array_o, axis=0)"
   ]
  },
  {
   "cell_type": "markdown",
   "metadata": {
    "id": "oLMBp7R7vw4n"
   },
   "source": [
    "### FUNCIONES DE CONJUNTO\n",
    "\n",
    "Numpy permite realizar tratamientos sobre ndarrays asumiendo que le total de los elementos del mismo forman un conjunto\n",
    "* unique: Calcula el conjunto unico de elementos sin duplicados\n",
    "* insertsect1d: Calcula la interseccion de los elementos de dos arryas\n",
    "* union1d: Calcula la union de los elementos de dos arrays \n",
    "* in1d : calcula un array boleano que indica si cada elemento del primer array esta contenido en el segundo\n",
    "* setdifff1d: calcula la diferencia entre ambos conjuntos\n",
    "* setxord1d: calcula la diferencia simetrica entre ambos conjuntos\n"
   ]
  },
  {
   "cell_type": "code",
   "execution_count": null,
   "metadata": {
    "id": "zvJpGRCwvwfI"
   },
   "outputs": [],
   "source": [
    "array_1 = np.array([5, 5, 4, 8, 9, 10, 6, 3])\n",
    "array_1"
   ]
  },
  {
   "cell_type": "code",
   "execution_count": null,
   "metadata": {
    "id": "4zAXrLKcC7dv"
   },
   "outputs": [],
   "source": [
    "array_2 = np.array([8, 2, 4, 8, 7, 15, 6, 1])\n",
    "array_2"
   ]
  },
  {
   "cell_type": "code",
   "execution_count": null,
   "metadata": {
    "id": "dJPFimiaDBGq"
   },
   "outputs": [],
   "source": [
    "np.unique(array_1) #eliminar los elementos duplicados de la lista"
   ]
  },
  {
   "cell_type": "code",
   "execution_count": null,
   "metadata": {
    "id": "Tm_eJkcGDHOo"
   },
   "outputs": [],
   "source": [
    "np.union1d(array_1, array_2) #juntar las dos listas para crear un conjunto"
   ]
  },
  {
   "cell_type": "code",
   "execution_count": null,
   "metadata": {
    "id": "61nqGpg7DMwd"
   },
   "outputs": [],
   "source": [
    "np.in1d(array_1, array_2) #comprobar silos elemntos del primer conjunto estan en el segundo"
   ]
  }
 ],
 "metadata": {
  "colab": {
   "collapsed_sections": [
    "ezMVw_ER5Xiy",
    "o24B_-SjGme3",
    "iFbi5FrcIxhE",
    "aMRrGKLpn9QX",
    "v04EPzh0t_ve"
   ],
   "name": "4Operaciones_sobre_ndarrays.ipynb",
   "provenance": []
  },
  "kernelspec": {
   "display_name": "Python 3 (ipykernel)",
   "language": "python",
   "name": "python3"
  },
  "language_info": {
   "codemirror_mode": {
    "name": "ipython",
    "version": 3
   },
   "file_extension": ".py",
   "mimetype": "text/x-python",
   "name": "python",
   "nbconvert_exporter": "python",
   "pygments_lexer": "ipython3",
   "version": "3.9.7"
  }
 },
 "nbformat": 4,
 "nbformat_minor": 4
}
