{
 "cells": [
  {
   "cell_type": "markdown",
   "metadata": {
    "id": "DSxtahZHmvnW"
   },
   "source": [
    "# Las bases de Numpy\n",
    "\n",
    "Toda la libreria de Numpy se articula alrededor de una unica estructura de datos: la matriz multidimensional o ndarray  (N-DIMENSIONAL Array)\n",
    "\n"
   ]
  },
  {
   "cell_type": "markdown",
   "metadata": {
    "id": "SQwDxn7UxJiw"
   },
   "source": [
    "CARACTERISTICAS BASICAS ndARRAY\n",
    "\n",
    "* Una ndarray puede contener elementos de CUALQUIER TIPO\n",
    "* Tods los elementos de una ndarray deden tener el mismo TIPO\n",
    "* El tamaño de una ndarray (numero de elementos) se define en el momento de la creacion y no puede modificarse\n",
    "* Pero la organizacion de esos elementos entre diferentes dimensiones si puede modificarse. (Cambiar el numero de columnas y filas)\n",
    "\n",
    "USO BASICO DE CUALQUIER ELEMENTO DE NUMPY\n",
    "\n",
    "Hay que recordar que Numpy no es un modulo del core de PyTHON por lo que siempre hay que importarlo de forma completa o complemento a complemento.\n"
   ]
  },
  {
   "cell_type": "code",
   "execution_count": null,
   "metadata": {
    "id": "cGhyPDsdxIdf"
   },
   "outputs": [],
   "source": [
    "import numpy as np #cada que se quiera utilizar una funcion de Numpy, poner el prefijo np."
   ]
  },
  {
   "cell_type": "markdown",
   "metadata": {
    "id": "MQ6E28KxzwUa"
   },
   "source": [
    "### CREACION BASICA DE N.D.ARRAYS\n",
    "\n",
    "Existen varias formas de crear un ndarrays en Numpy. Veamos lo basico;"
   ]
  },
  {
   "cell_type": "code",
   "execution_count": null,
   "metadata": {
    "id": "nr7EBw94xG2q"
   },
   "outputs": [],
   "source": [
    "# CREACION DE UN NDARRAY VACIO (utilizar la funcion empty)\n",
    "array_vacio = np.empty((3, 2), dtype=np.unicode) #especificando dimensiones, y el tipo de datos\n",
    "array_vacio"
   ]
  },
  {
   "cell_type": "code",
   "execution_count": null,
   "metadata": {
    "id": "4QeAHzCiLCX7"
   },
   "outputs": [],
   "source": [
    "#Copiando dimensiones y tipo desde otra estructura\n",
    "array_vacio_copia = np.empty_like([1, 2, 3, 4, 5]) #especificando dimensiones\n",
    "array_vacio_copia # # es para cuando no conocemos la dimesnion "
   ]
  },
  {
   "cell_type": "code",
   "execution_count": null,
   "metadata": {
    "id": "qSBRQQ6A1lcA"
   },
   "outputs": [],
   "source": [
    "# CREACION DE UN NDARRAY DE UNOS\n",
    "array_unos = np.ones((3, 2)) #especificando dimensiones\n",
    "array_unos"
   ]
  },
  {
   "cell_type": "code",
   "execution_count": null,
   "metadata": {
    "id": "FZjICkW0Li6c"
   },
   "outputs": [],
   "source": [
    "#Copiando dimensiones y tipo desde otra estructura\n",
    "array_unos_copia = np.ones_like([1, 2, 3, 4, 5]) #especificando la estructura que queremos copiar, en este caso una lista,\n",
    "array_unos_copia  # es para cuando no conocemos la dimesnion"
   ]
  },
  {
   "cell_type": "code",
   "execution_count": null,
   "metadata": {
    "id": "LuFxPbw36apj"
   },
   "outputs": [],
   "source": [
    "# CREACION DE UN NDARRAY DE CEROS\n",
    "array_ceros = np.zeros((3, 2)) #especificando dimensiones\n",
    "array_ceros"
   ]
  },
  {
   "cell_type": "code",
   "execution_count": null,
   "metadata": {
    "id": "jICutwbqLwVB"
   },
   "outputs": [],
   "source": [
    "#Copiando dimensiones y tipo desde otra estructura\n",
    "array_ceros_copia = np.zeros_like([1, 2, 3, 4, 5]) #especificando dimensiones\n",
    "array_ceros_copia  # es para cuando no conocemos la dimesnion "
   ]
  },
  {
   "cell_type": "code",
   "execution_count": null,
   "metadata": {
    "id": "Er_boWp77i_4"
   },
   "outputs": [],
   "source": [
    "# CREACIONDE DE UNA MATRIZ IDENTIDAD\n",
    "array_identidad = np.identity(3) #especificando dimensiones\n",
    "array_identidad"
   ]
  },
  {
   "cell_type": "code",
   "execution_count": null,
   "metadata": {
    "id": "eWXpHehk73Zr"
   },
   "outputs": [],
   "source": [
    "# CREACIONDE DE UNA ndarray CON UNOS EN UNA DE LAS DIAGONALES\n",
    "\n",
    "#la iderancia con la identidas es que podemos mover la diagonal\n",
    "\n",
    "#Cuadrada con unos en la diagonal principal\n",
    "array_identidad = np.eye(4) #especificando dimensiones\n",
    "array_identidad "
   ]
  },
  {
   "cell_type": "code",
   "execution_count": null,
   "metadata": {
    "id": "hHxDW0q_8fhA"
   },
   "outputs": [],
   "source": [
    "#Cuadrada con unos en la diagonal especifica\n",
    "array_identidad_dos = np.eye(4, k=1) #especificando dimensiones\n",
    "array_identidad_dos"
   ]
  },
  {
   "cell_type": "code",
   "execution_count": null,
   "metadata": {
    "id": "ItxNSXnj9GZh"
   },
   "outputs": [],
   "source": [
    "#No cuadrada con unos en la diagonal en especifico\n",
    "array_secuencia = np.eye(4, 3, k=-1) #especificando dimensiones\n",
    "array_secuencia"
   ]
  },
  {
   "cell_type": "code",
   "execution_count": null,
   "metadata": {
    "id": "Y5aIcR0H9lfz"
   },
   "outputs": [],
   "source": [
    "# CREACIONDE DE UNA ndarray CUYOS ELEMENTOS SON UNA SECUENCIA NUMERICA\n",
    "array_secuencia1 = np.arange(10) #especificando el rango de los numeros\n",
    "array_secuencia1 #lo arroja en una sola dimension"
   ]
  },
  {
   "cell_type": "code",
   "execution_count": null,
   "metadata": {
    "id": "06cw0nXDAlt3"
   },
   "outputs": [],
   "source": [
    "array_secuencia2 = np.arange(5, 20, 2) #especificando dimensiones\n",
    "array_secuencia2 #lo arroja en una sola dimension"
   ]
  },
  {
   "cell_type": "code",
   "execution_count": null,
   "metadata": {
    "id": "WGimLtQLAnBO"
   },
   "outputs": [],
   "source": [
    "array_secuencia3 = np.arange(5, 10) #especificando dimensiones\n",
    "array_secuencia3"
   ]
  },
  {
   "cell_type": "code",
   "execution_count": null,
   "metadata": {
    "id": "zx3EPHio99AX"
   },
   "outputs": [],
   "source": [
    "# CREACIONDE DE UNA ndarray A PARTIR DE UNA SECUENCAI BASICA DE PYTHON\n",
    "#unidimesnional\n",
    "array_basica = np.array([1, 2, 3, 4]) \n",
    "array_basica #nos arroja el tipo de elementos y los elementos"
   ]
  },
  {
   "cell_type": "code",
   "execution_count": null,
   "metadata": {
    "id": "Qc5JtOK0_2TV"
   },
   "outputs": [],
   "source": [
    "#Multidimensional\n",
    "array_multidimensional = np.array([[1, 2, 3, 4], [5, 6, 7, 8]]) # tienen que tener el mismo numero de elementos\n",
    "array_multidimensional #en este caso nos lo arroja en dos dimesniones"
   ]
  },
  {
   "cell_type": "markdown",
   "metadata": {
    "id": "os-QUAML-VbA"
   },
   "source": [
    "### TIPOS DE N.D.ARRAYS DE NUMPY\n",
    "\n",
    "* Enteros con signos: np.int8, np.int16, np.int32, np.int64\n",
    "* Eneteros sin signo: np.uint8, np.uint16, np.uint32, np.uint64 CERO O POSITIVOS\n",
    "* Numeros en comas flotantes: np.float16, np.float32, np.float64, np.float128\n",
    "* Boleanos: np.bool\n",
    "* Objetos: np.object (NONE O NA)\n",
    "* Cadenas de Texto: np.string, np.unicode"
   ]
  },
  {
   "cell_type": "markdown",
   "metadata": {
    "id": "XpiE0lMgBVWE"
   },
   "source": [
    "ESPECIFICACION / CASTING / CONVERSION DE TIPO ENTRE N.D.ARRAYS\n",
    "\n",
    "dntype nos ayuda a especificar el tipo de datos que queremos manejar, de acuardo a la lista anterio"
   ]
  },
  {
   "cell_type": "code",
   "execution_count": null,
   "metadata": {
    "id": "kn0l5e9MBkFc"
   },
   "outputs": [],
   "source": [
    "#ENTEROS\n",
    "array_incial_enteros = np.array([1, 2, 3, 4, 5], dtype=np.int32)\n",
    "array_incial_enteros"
   ]
  },
  {
   "cell_type": "code",
   "execution_count": null,
   "metadata": {
    "id": "NX1EQ6h-Bl9X"
   },
   "outputs": [],
   "source": [
    "#DECIMAL\n",
    "array_incial_float = np.array([1, 2, 3, 4, 5], dtype=np.float64)\n",
    "array_incial_float"
   ]
  },
  {
   "cell_type": "code",
   "execution_count": null,
   "metadata": {
    "id": "veYzGM80Bmpz"
   },
   "outputs": [],
   "source": [
    "# TEXTO\n",
    "array_incial_string = np.array([1, 2, 3, 4, 5], dtype=np.unicode_)\n",
    "array_incial_string"
   ]
  },
  {
   "cell_type": "markdown",
   "metadata": {
    "id": "sdJuZOM5Bskn"
   },
   "source": [
    "### CONSULATA DE LA COMPOSICION DE UNA N.D.ARRAY\n",
    "\n",
    "* dtype: tipo del contenido\n",
    "* ndim: numero de dimensiones (Numero de filas y columnas)\n",
    "* shape: estructura/forma de ndarray, numero de elementos en cada uno de los ejes/dimensiones (elementos de cada fila o columna) Forma\n",
    "* size: numero total de elementos en el nd arrays (el tamaño no se puede cambiar)\n",
    "\n"
   ]
  },
  {
   "cell_type": "code",
   "execution_count": null,
   "metadata": {
    "id": "jMDIFIhRCsuw"
   },
   "outputs": [],
   "source": [
    "#Multidimensional\n",
    "array_ = np.array([[1, 2, 3, 4], [5, 6, 7, 8], [9, 10, 11, 12]]) \n",
    "array_"
   ]
  },
  {
   "cell_type": "code",
   "execution_count": null,
   "metadata": {
    "colab": {
     "base_uri": "https://localhost:8080/"
    },
    "id": "nrQRjkwW4HpT",
    "outputId": "97de74da-7d30-4eaf-9506-779ecf5368cc"
   },
   "outputs": [
    {
     "data": {
      "text/plain": [
       "dtype('int64')"
      ]
     },
     "execution_count": 29,
     "metadata": {
      "tags": []
     },
     "output_type": "execute_result"
    }
   ],
   "source": [
    "#TIPO DE ARRAY\n",
    "array_.dtype"
   ]
  },
  {
   "cell_type": "code",
   "execution_count": null,
   "metadata": {
    "id": "XAAOiGBwR4jY"
   },
   "outputs": [],
   "source": [
    "# NUMERO DE DIMENSIONES\n",
    "array_.ndim # se puede establecer por el numero de corchetes que hay en la funcion"
   ]
  },
  {
   "cell_type": "code",
   "execution_count": null,
   "metadata": {
    "id": "zRMBpyMf3ub0"
   },
   "outputs": [],
   "source": [
    "#FORMA/DIMESION\n",
    "array_.shape"
   ]
  },
  {
   "cell_type": "code",
   "execution_count": null,
   "metadata": {
    "id": "7qQeSCPh4Mdo"
   },
   "outputs": [],
   "source": [
    "#NUMERO TOTAL DE ELEMENTOS\n",
    "array_.size"
   ]
  },
  {
   "cell_type": "markdown",
   "metadata": {
    "id": "-ejCbrPDCzYe"
   },
   "source": [
    "### OPERACIONES ARITMETICAS ENTRE N.D.ARRAYS Y ESCALARES"
   ]
  },
  {
   "cell_type": "code",
   "execution_count": null,
   "metadata": {
    "id": "l40FFtn4C8uq"
   },
   "outputs": [],
   "source": [
    "#UN ARRAY CON UN NUMERO\n",
    "array_op = np.array([1, 2, 3, 4], dtype=np.float64) \n",
    "array_op"
   ]
  },
  {
   "cell_type": "code",
   "execution_count": null,
   "metadata": {
    "id": "4j097HH25lUL"
   },
   "outputs": [],
   "source": [
    "#SUMA\n",
    "array_op + 5 # A cada elemento  le SUMA un valor"
   ]
  },
  {
   "cell_type": "code",
   "execution_count": null,
   "metadata": {
    "id": "oX2dXbga5lQ-"
   },
   "outputs": [],
   "source": [
    "#RESTA\n",
    "array_op - 3 # A cada elemento  le RESTA un valor"
   ]
  },
  {
   "cell_type": "code",
   "execution_count": null,
   "metadata": {
    "id": "8vkn6o9G5lLq"
   },
   "outputs": [],
   "source": [
    "#MULTIPLICACION\n",
    "array_op * 3 # A cada elemento  le MULT un valor"
   ]
  },
  {
   "cell_type": "code",
   "execution_count": null,
   "metadata": {
    "id": "TMlgvVOT5k3x"
   },
   "outputs": [],
   "source": [
    "#DIVISON\n",
    "1 / array_op  # A cada elemento  le DIVIDE un valor"
   ]
  },
  {
   "cell_type": "code",
   "execution_count": null,
   "metadata": {
    "id": "SFDj7WeU5tqz"
   },
   "outputs": [],
   "source": [
    "#DIVISION ENTERA\n",
    "array_op // 2 # A cada elemento  le DIV ENTERA un valor"
   ]
  },
  {
   "cell_type": "code",
   "execution_count": null,
   "metadata": {
    "id": "AdOcliDC6I_J"
   },
   "outputs": [],
   "source": [
    "#POETENCIA\n",
    "array_op ** 2 # A cada elemento  le POTENCIA un valor"
   ]
  },
  {
   "cell_type": "code",
   "execution_count": null,
   "metadata": {
    "id": "EDZ8K7wQ5vUX"
   },
   "outputs": [],
   "source": [
    "#ASIGNACION CON OPERADOR\n",
    "array_op += 1\n",
    "array_op"
   ]
  },
  {
   "cell_type": "markdown",
   "metadata": {
    "id": "jcwT6WiGDR2r"
   },
   "source": [
    "### OPERACIONES ARITMETICAS ENTRE N.D ARRAYS\n",
    "\n",
    "IMPORTANTE: LOS DOS TERMINOS DE LAS OPERACIONES TIENEN QUE SER N.D.ARRAYS DE LAS MISMAS DIMENSIONES Y FORMA. SE APLICA LA OPERACION ELEMENTO A ELEMWNTO"
   ]
  },
  {
   "cell_type": "code",
   "execution_count": null,
   "metadata": {
    "id": "c9pYb8PeDluF"
   },
   "outputs": [],
   "source": [
    "array_arr = np.array([1, 2, 3, 4], dtype=np.float64) "
   ]
  },
  {
   "cell_type": "code",
   "execution_count": null,
   "metadata": {
    "id": "20qPePZ17z19"
   },
   "outputs": [],
   "source": [
    "# SUMA\n",
    "array_arr + array_arr"
   ]
  },
  {
   "cell_type": "code",
   "execution_count": null,
   "metadata": {
    "id": "NhNXwt6e73g6"
   },
   "outputs": [],
   "source": [
    "# RESTA\n",
    "array_arr - array_arr"
   ]
  },
  {
   "cell_type": "code",
   "execution_count": null,
   "metadata": {
    "id": "wobfss5W736d"
   },
   "outputs": [],
   "source": [
    "# MULTIPLICACION\n",
    "array_arr * array_arr"
   ]
  },
  {
   "cell_type": "code",
   "execution_count": null,
   "metadata": {
    "id": "ICDWomTF8Bak"
   },
   "outputs": [],
   "source": [
    "# DIVISION\n",
    "array_arr / array_arr"
   ]
  },
  {
   "cell_type": "code",
   "execution_count": null,
   "metadata": {
    "id": "oVFxUje98F7b"
   },
   "outputs": [],
   "source": [
    "# ASIGNACION CON OPERADOR\n",
    "array_arr += array_arr\n",
    "array_arr"
   ]
  },
  {
   "cell_type": "code",
   "execution_count": null,
   "metadata": {
    "id": "5jXyikHU8Sdd"
   },
   "outputs": [],
   "source": [
    "#SUMA DE N.D.ARRAYS DE DIFERENTE DIMENSION\n",
    "array_1 = np.array([1, 2, 3, 4, 5])\n",
    "array_arr + array_1 #TIENEN QUE SER DE LAS MISMAS DIMENSIONES, YA QUE FUNCIONA ELEMENTO A ELEMENTO"
   ]
  },
  {
   "cell_type": "markdown",
   "metadata": {
    "id": "EzOkYlQZDpNa"
   },
   "source": [
    "### INDEXACION Y SLICING BASICO\n",
    "\n",
    "En N.D.ARRAYS unidimensionales el funcionamiento es identico al que se tiene en secuencias basicas de Python. Es decir, se utiliza la indexacion [a:b:c]"
   ]
  },
  {
   "cell_type": "code",
   "execution_count": null,
   "metadata": {
    "colab": {
     "base_uri": "https://localhost:8080/"
    },
    "id": "YahFy_4xDo5R",
    "outputId": "15e8ddac-bee8-44c7-b267-e1264f438903"
   },
   "outputs": [
    {
     "data": {
      "text/plain": [
       "array([ 1,  2,  3,  4,  5,  6,  7,  8,  9, 10])"
      ]
     },
     "execution_count": 62,
     "metadata": {
      "tags": []
     },
     "output_type": "execute_result"
    }
   ],
   "source": [
    "# RECUPERAR O IDENTIFICAR ELEMENTOS DE MI ARRAY\n",
    "array_I = np.arange(1, 11)\n",
    "array_I"
   ]
  },
  {
   "cell_type": "code",
   "execution_count": null,
   "metadata": {
    "id": "EpAThMwU-r7n"
   },
   "outputs": [],
   "source": [
    "# INDEXACION CON PRIMER PARAMETRO\n",
    "array_I[2] #localizar un elemento en especifica cuando se conoce la posicion"
   ]
  },
  {
   "cell_type": "code",
   "execution_count": null,
   "metadata": {
    "id": "1Cio2AtH-w21"
   },
   "outputs": [],
   "source": [
    "# INDEXACION CON PRIMER PARAMETRO Y SEGUNDO PARAMETRO\n",
    "array_I[2:5] #localizar un rango en especifica cuando se conoce las posiciones"
   ]
  },
  {
   "cell_type": "code",
   "execution_count": null,
   "metadata": {
    "id": "CyRo6-c7-xP5"
   },
   "outputs": [],
   "source": [
    "# INDEXACION CON TERCER PARAMETRO\n",
    "array_I[::2] #localizar elementos en especifica con un orden especifico"
   ]
  },
  {
   "cell_type": "code",
   "execution_count": null,
   "metadata": {
    "id": "0sGZ_M5W-_ho"
   },
   "outputs": [],
   "source": [
    "# INDEXACION CON NEGATIVOS\n",
    "array_I[::-1] #replicar los elementos pero con un orden diferente, en este caso inveros"
   ]
  },
  {
   "cell_type": "markdown",
   "metadata": {
    "id": "jnj2Bml3hhRA"
   },
   "source": [
    "EN N.D.ARRAYS MULTIDIMESNIONALES EXISTEN DOS POSIBLES FORMAS DE REALIZAR EL ACCESO\n",
    "\n",
    "* Mediante indexacion discursiva: array [a:b:c en dim_1][a:b:c en dim_2] ... [a:b:c en dim_n]\n",
    "* Mediante indexacion con comas: [a:b:c en dim_1, a:b:c en dim_2, ... a:b:c en dim_n]"
   ]
  },
  {
   "cell_type": "code",
   "execution_count": null,
   "metadata": {
    "id": "LoHJpvUQigwP"
   },
   "outputs": [],
   "source": [
    "array_UNO = np.array([[[1, 2, 3, 4], [5, 6, 7, 8]], [[9, 10, 11, 12], [13, 14, 15, 16]]]) \n",
    "array_UNO"
   ]
  },
  {
   "cell_type": "code",
   "execution_count": null,
   "metadata": {
    "id": "7TpR9T0tjXXw"
   },
   "outputs": [],
   "source": [
    "# FORMA DE LA MATRIZ\n",
    "array_UNO.shape # para este caso son dos matrices externas con dos matrices internas y cuatro elementos para cada una"
   ]
  },
  {
   "cell_type": "code",
   "execution_count": null,
   "metadata": {
    "id": "xN568h0iAceF"
   },
   "outputs": [],
   "source": [
    "# INDEXACION RECURSIVA PRIMER NIVEL\n",
    "array_UNO[1] # nos arroja la segunda matriz externa"
   ]
  },
  {
   "cell_type": "code",
   "execution_count": null,
   "metadata": {
    "id": "CNEpoGpXAdEl"
   },
   "outputs": [],
   "source": [
    "# INDEXACION RECURSIVA SEGUNDO NIVEL\n",
    "array_UNO[1][0] # Nos arroja la primer matriz interna de la segunda matriz externa"
   ]
  },
  {
   "cell_type": "code",
   "execution_count": null,
   "metadata": {
    "id": "Idgw04gdAs77"
   },
   "outputs": [],
   "source": [
    "# INDEXACION RECURSIVA TERCER NIVEL\n",
    "array_UNO[1][0][3] # Nos arrojas el cuarto elemento de la primer matriz interna en la segunda matriz externa"
   ]
  },
  {
   "cell_type": "code",
   "execution_count": null,
   "metadata": {
    "id": "hE4KdWARAyQh"
   },
   "outputs": [],
   "source": [
    "# INDEXACION CON COSAS SEGUNDO NIVEL\n",
    "array_UNO[1, 0] # es lo mismo a lo anterior pero en lugar de corchetes son comas"
   ]
  },
  {
   "cell_type": "code",
   "execution_count": null,
   "metadata": {
    "id": "3a8CW1kSA2a4"
   },
   "outputs": [],
   "source": [
    "# INDEXACION CON COSAS TERCER NIVEL\n",
    "array_UNO[1, 0, 3]"
   ]
  },
  {
   "cell_type": "code",
   "execution_count": null,
   "metadata": {
    "id": "_B76xIezBAHz"
   },
   "outputs": [],
   "source": [
    "# INDEXACION RECURSIVA TERCER NIVEL CON SLICE\n",
    "array_UNO[0][0][:2] #Tambien se pueden seleccionar rangos"
   ]
  },
  {
   "cell_type": "code",
   "execution_count": null,
   "metadata": {
    "id": "oFjFi7EvBHbC"
   },
   "outputs": [],
   "source": [
    "# INDEXACION RECURSIVA TERCER NIVEL CON SLICE DE INDICE NEGATIVO\n",
    "array_UNO[1][0][::-1] # y se puede cambiar el orden de los elementos"
   ]
  },
  {
   "cell_type": "markdown",
   "metadata": {
    "id": "-Io3RrLViv0M"
   },
   "source": [
    "Del mismo modo a como ocurre en Python baisco, se puede utilizar la indexacion/ slicing para modificar secciones del contenido de  N.D.ARRAY"
   ]
  },
  {
   "cell_type": "code",
   "execution_count": null,
   "metadata": {
    "id": "UIkuAIPCRCqg"
   },
   "outputs": [],
   "source": [
    "array_UNO = np.array([[1, 2, 3, 4], [5, 6, 7, 8]]) "
   ]
  },
  {
   "cell_type": "code",
   "execution_count": null,
   "metadata": {
    "id": "uijZ4feJRSLA"
   },
   "outputs": [],
   "source": [
    "#MODIFICACION DE UNA POSICION\n",
    "array_UNO[0][1] = 50\n",
    "array_UNO #Podemos cambiar el valor de algun elemento, pero no podemos agregar elementos"
   ]
  },
  {
   "cell_type": "code",
   "execution_count": null,
   "metadata": {
    "id": "BYrjmE9dRtw0"
   },
   "outputs": [],
   "source": [
    "#MODIFICACION DE UN SLICE\n",
    "array_UNO[0][::2] = 30\n",
    "array_UNO # se puede aplicar un valor para un rango en especifico"
   ]
  },
  {
   "cell_type": "markdown",
   "metadata": {
    "id": "Mls09x9bjaqQ"
   },
   "source": [
    "### INDEXACION Y SLICING BOLEANO "
   ]
  },
  {
   "cell_type": "code",
   "execution_count": null,
   "metadata": {
    "id": "uqetf0l7jm46"
   },
   "outputs": [],
   "source": [
    "personas = np.array([\"Miguel\", \"Juan\", \"Pedro\", \"Luis\"])\n",
    "personas "
   ]
  },
  {
   "cell_type": "code",
   "execution_count": null,
   "metadata": {
    "colab": {
     "base_uri": "https://localhost:8080/"
    },
    "id": "p6K4cJj2Vr_y",
    "outputId": "fad4d2bd-1ad2-4d2e-db80-db3b637bb227"
   },
   "outputs": [
    {
     "data": {
      "text/plain": [
       "array([[0.34179357, 0.87408922, 0.88819279, 0.55695457],\n",
       "       [0.95684061, 0.46559094, 0.63174406, 0.07634536],\n",
       "       [0.35318061, 0.98290098, 0.63388924, 0.41298349],\n",
       "       [0.92339578, 0.56555527, 0.46801138, 0.90064968]])"
      ]
     },
     "execution_count": 109,
     "metadata": {
      "tags": []
     },
     "output_type": "execute_result"
    }
   ],
   "source": [
    "datos = np.random.rand(4, 4)\n",
    "datos"
   ]
  },
  {
   "cell_type": "code",
   "execution_count": null,
   "metadata": {
    "id": "jzmjAlW8WAGh"
   },
   "outputs": [],
   "source": [
    "# INDEXACION/SLICING BOLENAO SOBRE VALORES\n",
    "datos < 0.5 # todos los valores menores a 0.5\n",
    "datos[datos < 0.5] # Con esta funciones nos arroja el valor que cumplen la condicion de los corchetes"
   ]
  },
  {
   "cell_type": "code",
   "execution_count": null,
   "metadata": {
    "colab": {
     "base_uri": "https://localhost:8080/"
    },
    "id": "VQ_qaYfNV_zg",
    "outputId": "c94a14bb-11bf-4d34-a5f9-2b2aba5d1d6b"
   },
   "outputs": [
    {
     "data": {
      "text/plain": [
       "array([ True, False, False, False])"
      ]
     },
     "execution_count": 107,
     "metadata": {
      "tags": []
     },
     "output_type": "execute_result"
    }
   ],
   "source": [
    "# MASCARA BOLEANA\n",
    "personas == \"Miguel\" #lo podemos aplicar para str"
   ]
  },
  {
   "cell_type": "code",
   "execution_count": null,
   "metadata": {
    "id": "lfMHNTvQWPTz"
   },
   "outputs": [],
   "source": [
    "# INDEXACION/SLICING MEDIANTE MASCARA \n",
    "datos[personas == \"Miguel\"] # No tiene que ser con la misma matriz en este caso nos arrojasla primer fila\n",
    "\n",
    "# por que en en el aaray de personas solo la primera es \"Miguel\""
   ]
  },
  {
   "cell_type": "code",
   "execution_count": null,
   "metadata": {
    "id": "SNM0pnHaWZ5y"
   },
   "outputs": [],
   "source": [
    "# INDEXACION/SLICING MEDIANTE MASCARA Y BASICO COMBINADO\n",
    "datos[personas == \"Miguel\", ::2] #Podemos indexar de igual forma"
   ]
  },
  {
   "cell_type": "code",
   "execution_count": null,
   "metadata": {
    "id": "6Ss5YJuQWk0U"
   },
   "outputs": [],
   "source": [
    "# INDEXACION/SLICING MEDIANTE MASCARA NEGATIVO POR OPERADOR\n",
    "datos[personas != \"Miguel\"] # He invertir nuestra seleccion para los elementos que no cumplan con esa condicion"
   ]
  },
  {
   "cell_type": "code",
   "execution_count": null,
   "metadata": {
    "id": "HilLllRgWwC_"
   },
   "outputs": [],
   "source": [
    "# INDEXACION/SLICING MEDIANTE MASCARA NEGATIVO POR SIGNO\n",
    "datos[~(personas == \"Miguel\")] #para cambiar el signo de los valores utilizamos el simbolo ~"
   ]
  },
  {
   "cell_type": "markdown",
   "metadata": {
    "id": "3ysOuGH7Xe51"
   },
   "source": [
    "De nuevo, podemos utilizar indexacion/slicing boleano para realizar modificaciones sobre el contenido de un N.D.ARRAYS"
   ]
  },
  {
   "cell_type": "code",
   "execution_count": null,
   "metadata": {
    "id": "ZjOjY-5PYm2y"
   },
   "outputs": [],
   "source": [
    "array_ = np.random.rand(7, 4)\n",
    "array_"
   ]
  },
  {
   "cell_type": "code",
   "execution_count": null,
   "metadata": {
    "id": "IHVJc0u-ZO7c"
   },
   "outputs": [],
   "source": [
    "# ELIMINACIONDE VALORES NEGATIVOS MEDIANTE EL SLICING\n",
    "array_[array_ < 0.5] = 0 #Sustitutye todos lo valores que cumplen con la condicion por un valor asignado\n",
    "array_ "
   ]
  },
  {
   "cell_type": "markdown",
   "metadata": {
    "id": "e8deOJL4jyyQ"
   },
   "source": [
    "### INDEXACION Y SLICING BASADO EN SECUENCIAS DE ENTEROS (FANCY INDEXING)"
   ]
  },
  {
   "cell_type": "code",
   "execution_count": null,
   "metadata": {
    "id": "_DxkC6Smj-mh"
   },
   "outputs": [],
   "source": [
    "array2 = np.empty((8, 4))\n",
    "for i in range(8):\n",
    "  array2[i] = i\n",
    "array2"
   ]
  },
  {
   "cell_type": "code",
   "execution_count": null,
   "metadata": {
    "id": "Cq2KBnlxbLWB"
   },
   "outputs": [],
   "source": [
    "array2[[2, 5]] #Cuando queremos seleccionar elementos que no son consecutivos o del mismo rango\n",
    "#Utilizamos dobles llaves para seleccioanrlos"
   ]
  },
  {
   "cell_type": "code",
   "execution_count": null,
   "metadata": {
    "id": "JZmpIghobWMQ"
   },
   "outputs": [],
   "source": [
    "array2[[-2, -5]] # al igual que con cualquier indexacion podemos seleccionar de manera inversa"
   ]
  },
  {
   "cell_type": "markdown",
   "metadata": {
    "id": "ZdanZB59cGI5"
   },
   "source": [
    "Tambien podemos indexar de manera arbitraria en multiples dimensiones, utilizando para ellos, una secuencia de enteros en cada dimension. El resultado sera la combinacion de secuencias; "
   ]
  },
  {
   "cell_type": "code",
   "execution_count": null,
   "metadata": {
    "id": "wFAo8imLcl6f"
   },
   "outputs": [],
   "source": [
    "array3 = np.arange(32).reshape((8, 4)) #podemos ajustar la fomra de la matriz con la funcion .reshape\n",
    "array3"
   ]
  },
  {
   "cell_type": "code",
   "execution_count": null,
   "metadata": {
    "id": "oBjAOoKtdjk2"
   },
   "outputs": [],
   "source": [
    "array3 = np.array([[2, 5, 9, 1], [3, 6, 8, 9]]) \n",
    "array3"
   ]
  },
  {
   "cell_type": "code",
   "execution_count": null,
   "metadata": {
    "id": "-fStvC_idpHZ"
   },
   "outputs": [],
   "source": [
    "array3 = np.array([[2, 5, 9, 1], [3, 6, 8, 9]]) \n",
    "array3"
   ]
  },
  {
   "cell_type": "markdown",
   "metadata": {
    "id": "vXCAMrsCkATD"
   },
   "source": [
    "### TRASPOSICION Y MODIFICACION DE EJES/DIMESNSIONES"
   ]
  },
  {
   "cell_type": "code",
   "execution_count": null,
   "metadata": {
    "colab": {
     "base_uri": "https://localhost:8080/"
    },
    "id": "CtNl6PGEkSgN",
    "outputId": "bef8417d-26fa-407e-d03d-2e558011ea7a"
   },
   "outputs": [
    {
     "data": {
      "text/plain": [
       "array([ 0,  1,  2,  3,  4,  5,  6,  7,  8,  9, 10, 11, 12, 13, 14])"
      ]
     },
     "execution_count": 129,
     "metadata": {
      "tags": []
     },
     "output_type": "execute_result"
    }
   ],
   "source": [
    "array_t = np.arange(15)\n",
    "array_t"
   ]
  },
  {
   "cell_type": "code",
   "execution_count": null,
   "metadata": {
    "id": "UgCv3iTSqdHS"
   },
   "outputs": [],
   "source": [
    "# MODIFICACION DE EJES/DIMENSIONES\n",
    "array_t2 = array_t.reshape(3, 5)\n",
    "array_t2"
   ]
  },
  {
   "cell_type": "code",
   "execution_count": null,
   "metadata": {
    "id": "NJ4Hc0AIqiwT"
   },
   "outputs": [],
   "source": [
    "# TRASPOSICION DE EJES/DIMENSIONES\n",
    "array_t2.T"
   ]
  },
  {
   "cell_type": "markdown",
   "metadata": {
    "id": "D8_jxwAokTtu"
   },
   "source": [
    "### CONCATENACION DE N.D.ARRAYS\n",
    "\n",
    "Numpy ofrece la posibilidad de conbinar ndarrays de dos formas posibles:\n",
    "* hstack,column_stack: los elementos del segundo array, se añaden a los del primero a lo ancho.**texto en negrita**\n",
    "* vstack, row_stack: los elemenetos del segundo array se añaden a los de primero a lo largo "
   ]
  },
  {
   "cell_type": "code",
   "execution_count": null,
   "metadata": {
    "colab": {
     "base_uri": "https://localhost:8080/"
    },
    "id": "TAZJjXsNlCxj",
    "outputId": "35418b09-d424-4ee5-fbda-d21f5dd9fde8"
   },
   "outputs": [
    {
     "data": {
      "text/plain": [
       "array([[ 0,  1,  2,  3,  4],\n",
       "       [ 5,  6,  7,  8,  9],\n",
       "       [10, 11, 12, 13, 14]])"
      ]
     },
     "execution_count": 132,
     "metadata": {
      "tags": []
     },
     "output_type": "execute_result"
    }
   ],
   "source": [
    "array_k = np.arange(15).reshape(3, 5)\n",
    "array_k"
   ]
  },
  {
   "cell_type": "code",
   "execution_count": null,
   "metadata": {
    "colab": {
     "base_uri": "https://localhost:8080/"
    },
    "id": "Ubv5QucUyf2K",
    "outputId": "444e2139-ff23-4311-d81d-b608a4e0e4da"
   },
   "outputs": [
    {
     "data": {
      "text/plain": [
       "array([[15, 16, 17, 18, 19],\n",
       "       [20, 21, 22, 23, 24],\n",
       "       [25, 26, 27, 28, 29]])"
      ]
     },
     "execution_count": 133,
     "metadata": {
      "tags": []
     },
     "output_type": "execute_result"
    }
   ],
   "source": [
    "array_k2 = np.arange(15, 30).reshape(3, 5)\n",
    "array_k2"
   ]
  },
  {
   "cell_type": "code",
   "execution_count": null,
   "metadata": {
    "colab": {
     "base_uri": "https://localhost:8080/"
    },
    "id": "upg-_HUDyp_Y",
    "outputId": "ebc592fc-aa01-4bdd-c235-5c6b0da7bb70"
   },
   "outputs": [
    {
     "data": {
      "text/plain": [
       "array([[ 0,  1,  2,  3,  4, 15, 16, 17, 18, 19],\n",
       "       [ 5,  6,  7,  8,  9, 20, 21, 22, 23, 24],\n",
       "       [10, 11, 12, 13, 14, 25, 26, 27, 28, 29]])"
      ]
     },
     "execution_count": 134,
     "metadata": {
      "tags": []
     },
     "output_type": "execute_result"
    }
   ],
   "source": [
    "# CONCATENACION HORIZONTAL \n",
    "np.hstack((array_k, array_k2)) #UNIR POR COLUMNAS, DEBE TENER EL MISMO NUMERO DE  FILAS"
   ]
  },
  {
   "cell_type": "code",
   "execution_count": null,
   "metadata": {
    "colab": {
     "base_uri": "https://localhost:8080/"
    },
    "id": "PlIkdCXuypiI",
    "outputId": "0eb9fae6-cc80-4f39-cdec-ee5cc2504e47"
   },
   "outputs": [
    {
     "data": {
      "text/plain": [
       "array([[ 0,  1,  2,  3,  4],\n",
       "       [ 5,  6,  7,  8,  9],\n",
       "       [10, 11, 12, 13, 14],\n",
       "       [15, 16, 17, 18, 19],\n",
       "       [20, 21, 22, 23, 24],\n",
       "       [25, 26, 27, 28, 29]])"
      ]
     },
     "execution_count": 135,
     "metadata": {
      "tags": []
     },
     "output_type": "execute_result"
    }
   ],
   "source": [
    "# CONCATENACION VERTICAL \n",
    "np.vstack((array_k, array_k2))  #UNIR POR FILAS, DEBE TENER EL MISMO NUMERO DE  COLUMNAS"
   ]
  },
  {
   "cell_type": "markdown",
   "metadata": {
    "id": "EemtrsGdlOHU"
   },
   "source": [
    "### DIVISION DE N.D.ARRAYS \n",
    "\n",
    "Al igual que para la concatenacion, Numpy permite dividir los n.d.arrays de tres formas distintas:\n",
    "* hsplit: division de arrays en \"n\" partes \"iguales\" por columnas\n",
    "* vsplit: division de arrays en \"n\" partes \"iguales\" por filas\n",
    "* split: division de arrays en \"n\" partes no simetricas\n"
   ]
  },
  {
   "cell_type": "code",
   "execution_count": null,
   "metadata": {
    "colab": {
     "base_uri": "https://localhost:8080/"
    },
    "id": "wkYRRK2HmKjg",
    "outputId": "354b5970-2f48-4f7f-8fd1-49aca37cad51"
   },
   "outputs": [
    {
     "data": {
      "text/plain": [
       "array([[ 0,  1,  2,  3],\n",
       "       [ 4,  5,  6,  7],\n",
       "       [ 8,  9, 10, 11],\n",
       "       [12, 13, 14, 15]])"
      ]
     },
     "execution_count": 136,
     "metadata": {
      "tags": []
     },
     "output_type": "execute_result"
    }
   ],
   "source": [
    "array_C = np.arange(16).reshape(4, 4)\n",
    "array_C #El punto es generar nuevos columnas o filas de la matirz original"
   ]
  },
  {
   "cell_type": "code",
   "execution_count": null,
   "metadata": {
    "colab": {
     "base_uri": "https://localhost:8080/"
    },
    "id": "a0Kdvwc-zZt_",
    "outputId": "6ce8475b-9e91-460f-cee2-8ea91dca1c1a"
   },
   "outputs": [
    {
     "data": {
      "text/plain": [
       "[array([[ 0,  1],\n",
       "        [ 4,  5],\n",
       "        [ 8,  9],\n",
       "        [12, 13]]), array([[ 2,  3],\n",
       "        [ 6,  7],\n",
       "        [10, 11],\n",
       "        [14, 15]])]"
      ]
     },
     "execution_count": 137,
     "metadata": {
      "tags": []
     },
     "output_type": "execute_result"
    }
   ],
   "source": [
    "# DIVISION SIMETRICA POR COLUMNAS\n",
    "np.hsplit(array_C, 2) #AGREGAR FILAS"
   ]
  },
  {
   "cell_type": "code",
   "execution_count": null,
   "metadata": {
    "colab": {
     "base_uri": "https://localhost:8080/"
    },
    "id": "B9pkYLgKzd36",
    "outputId": "41e5cb34-25fc-4893-f78a-27844966c8da"
   },
   "outputs": [
    {
     "data": {
      "text/plain": [
       "[array([[0, 1, 2, 3],\n",
       "        [4, 5, 6, 7]]), array([[ 8,  9, 10, 11],\n",
       "        [12, 13, 14, 15]])]"
      ]
     },
     "execution_count": 138,
     "metadata": {
      "tags": []
     },
     "output_type": "execute_result"
    }
   ],
   "source": [
    "# DIVISION SIMETRICA POR FILAS\n",
    "np.vsplit(array_C, 2) #AGREGAR COLUMNAS"
   ]
  },
  {
   "cell_type": "code",
   "execution_count": null,
   "metadata": {
    "id": "E5oJ43FqzgxH"
   },
   "outputs": [],
   "source": [
    "# DIVISION NO SIMETRICA \n",
    "np.split(array_C, [1, 3], axis=1) # SPLIT SE UTILIZA EJES"
   ]
  },
  {
   "cell_type": "markdown",
   "metadata": {
    "id": "8Ua7NkKd0SHw"
   },
   "source": [
    "AXIS\n",
    "\n",
    "* Valor 0: Aplica la funcion por columnas\n",
    "* Valor 1: Aplica la funcion por filas"
   ]
  }
 ],
 "metadata": {
  "colab": {
   "collapsed_sections": [
    "os-QUAML-VbA",
    "sdJuZOM5Bskn",
    "-ejCbrPDCzYe",
    "jcwT6WiGDR2r",
    "EzOkYlQZDpNa",
    "Mls09x9bjaqQ",
    "e8deOJL4jyyQ",
    "vXCAMrsCkATD",
    "D8_jxwAokTtu"
   ],
   "name": "3NUMPY_ Bases.ipynb",
   "provenance": []
  },
  "kernelspec": {
   "display_name": "Python 3 (ipykernel)",
   "language": "python",
   "name": "python3"
  },
  "language_info": {
   "codemirror_mode": {
    "name": "ipython",
    "version": 3
   },
   "file_extension": ".py",
   "mimetype": "text/x-python",
   "name": "python",
   "nbconvert_exporter": "python",
   "pygments_lexer": "ipython3",
   "version": "3.9.7"
  }
 },
 "nbformat": 4,
 "nbformat_minor": 4
}
